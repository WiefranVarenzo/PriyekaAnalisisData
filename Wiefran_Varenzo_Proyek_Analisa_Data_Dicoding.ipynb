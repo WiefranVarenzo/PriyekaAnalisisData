{
  "cells": [
    {
      "cell_type": "markdown",
      "metadata": {
        "id": "cP5zh7Ww85Fm"
      },
      "source": [
        "# Proyek Analisis Data: Nama dataset\n",
        "- Nama:Wiefran Varenzo\n",
        "- Email:lionwiefran88@gmail.com\n",
        "- Id Dicoding:wiefran_varenzo"
      ]
    },
    {
      "cell_type": "markdown",
      "metadata": {
        "id": "ggwOFmpI88dG"
      },
      "source": [
        "## Menentukan Pertanyaan Bisnis"
      ]
    },
    {
      "cell_type": "markdown",
      "metadata": {
        "id": "6irqmTtg8-IC"
      },
      "source": [
        "1. Bagaimana persebaran rating dari penjualan produk berdasarkan kategorinya ?\n",
        "2. Berapa persen pesanan yang datang sesuai atau bahkan lebih cepat dari estimasi\n",
        "3. Tipe pembayaran apa yang paling banyak dan paling sedikit dipakai?\n",
        "4. Kota apa dengan sebaran pelanggan terbanyak?\n",
        "5. Kategori produk apa yang paling diminati yang tidak diminiati oleh pelanggan?\n",
        "6. Pengaruh rentang ukuran, berat, dan  dari barang yang dikirimkan terhadap biaya pengiriman (shipping/freight value)"
      ]
    },
    {
      "cell_type": "markdown",
      "metadata": {
        "id": "EueHsNk89AsY"
      },
      "source": [
        "## Menyiapkan semua library yang dibuthkan"
      ]
    },
    {
      "cell_type": "code",
      "execution_count": 75,
      "metadata": {
        "colab": {
          "base_uri": "https://localhost:8080/"
        },
        "id": "aEYWHq3aStdQ",
        "outputId": "b2449ec3-8965-445c-fb98-cab3219f23fe"
      },
      "outputs": [
        {
          "name": "stdout",
          "output_type": "stream",
          "text": [
            "Requirement already satisfied: streamlit in c:\\users\\lionw\\anaconda3\\lib\\site-packages (1.28.0)\n",
            "Requirement already satisfied: altair<6,>=4.0 in c:\\users\\lionw\\anaconda3\\lib\\site-packages (from streamlit) (5.1.2)\n",
            "Requirement already satisfied: blinker<2,>=1.0.0 in c:\\users\\lionw\\anaconda3\\lib\\site-packages (from streamlit) (1.6.3)\n",
            "Requirement already satisfied: cachetools<6,>=4.0 in c:\\users\\lionw\\anaconda3\\lib\\site-packages (from streamlit) (5.3.2)\n",
            "Requirement already satisfied: click<9,>=7.0 in c:\\users\\lionw\\anaconda3\\lib\\site-packages (from streamlit) (8.0.4)\n",
            "Requirement already satisfied: importlib-metadata<7,>=1.4 in c:\\users\\lionw\\anaconda3\\lib\\site-packages (from streamlit) (6.0.0)\n",
            "Requirement already satisfied: numpy<2,>=1.19.3 in c:\\users\\lionw\\anaconda3\\lib\\site-packages (from streamlit) (1.24.3)\n",
            "Requirement already satisfied: packaging<24,>=16.8 in c:\\users\\lionw\\anaconda3\\lib\\site-packages (from streamlit) (23.1)\n",
            "Requirement already satisfied: pandas<3,>=1.3.0 in c:\\users\\lionw\\anaconda3\\lib\\site-packages (from streamlit) (2.0.3)\n",
            "Requirement already satisfied: pillow<11,>=7.1.0 in c:\\users\\lionw\\anaconda3\\lib\\site-packages (from streamlit) (9.4.0)\n",
            "Requirement already satisfied: protobuf<5,>=3.20 in c:\\users\\lionw\\anaconda3\\lib\\site-packages (from streamlit) (4.24.4)\n",
            "Requirement already satisfied: pyarrow>=6.0 in c:\\users\\lionw\\anaconda3\\lib\\site-packages (from streamlit) (11.0.0)\n",
            "Requirement already satisfied: python-dateutil<3,>=2.7.3 in c:\\users\\lionw\\anaconda3\\lib\\site-packages (from streamlit) (2.8.2)\n",
            "Requirement already satisfied: requests<3,>=2.27 in c:\\users\\lionw\\anaconda3\\lib\\site-packages (from streamlit) (2.31.0)\n",
            "Requirement already satisfied: rich<14,>=10.14.0 in c:\\users\\lionw\\anaconda3\\lib\\site-packages (from streamlit) (13.6.0)\n",
            "Requirement already satisfied: tenacity<9,>=8.1.0 in c:\\users\\lionw\\anaconda3\\lib\\site-packages (from streamlit) (8.2.2)\n",
            "Requirement already satisfied: toml<2,>=0.10.1 in c:\\users\\lionw\\anaconda3\\lib\\site-packages (from streamlit) (0.10.2)\n",
            "Requirement already satisfied: typing-extensions<5,>=4.3.0 in c:\\users\\lionw\\anaconda3\\lib\\site-packages (from streamlit) (4.7.1)\n",
            "Requirement already satisfied: tzlocal<6,>=1.1 in c:\\users\\lionw\\anaconda3\\lib\\site-packages (from streamlit) (5.2)\n",
            "Requirement already satisfied: validators<1,>=0.2 in c:\\users\\lionw\\anaconda3\\lib\\site-packages (from streamlit) (0.22.0)\n",
            "Requirement already satisfied: gitpython!=3.1.19,<4,>=3.0.7 in c:\\users\\lionw\\anaconda3\\lib\\site-packages (from streamlit) (3.1.40)\n",
            "Requirement already satisfied: pydeck<1,>=0.8.0b4 in c:\\users\\lionw\\anaconda3\\lib\\site-packages (from streamlit) (0.8.1b0)\n",
            "Requirement already satisfied: tornado<7,>=6.0.3 in c:\\users\\lionw\\anaconda3\\lib\\site-packages (from streamlit) (6.3.2)\n",
            "Requirement already satisfied: watchdog>=2.1.5 in c:\\users\\lionw\\anaconda3\\lib\\site-packages (from streamlit) (2.1.6)\n",
            "Requirement already satisfied: jinja2 in c:\\users\\lionw\\anaconda3\\lib\\site-packages (from altair<6,>=4.0->streamlit) (3.1.2)\n",
            "Requirement already satisfied: jsonschema>=3.0 in c:\\users\\lionw\\anaconda3\\lib\\site-packages (from altair<6,>=4.0->streamlit) (4.17.3)\n",
            "Requirement already satisfied: toolz in c:\\users\\lionw\\anaconda3\\lib\\site-packages (from altair<6,>=4.0->streamlit) (0.12.0)\n",
            "Requirement already satisfied: colorama in c:\\users\\lionw\\anaconda3\\lib\\site-packages (from click<9,>=7.0->streamlit) (0.4.6)\n",
            "Requirement already satisfied: gitdb<5,>=4.0.1 in c:\\users\\lionw\\anaconda3\\lib\\site-packages (from gitpython!=3.1.19,<4,>=3.0.7->streamlit) (4.0.11)\n",
            "Requirement already satisfied: zipp>=0.5 in c:\\users\\lionw\\anaconda3\\lib\\site-packages (from importlib-metadata<7,>=1.4->streamlit) (3.11.0)\n",
            "Requirement already satisfied: pytz>=2020.1 in c:\\users\\lionw\\anaconda3\\lib\\site-packages (from pandas<3,>=1.3.0->streamlit) (2023.3.post1)\n",
            "Requirement already satisfied: tzdata>=2022.1 in c:\\users\\lionw\\anaconda3\\lib\\site-packages (from pandas<3,>=1.3.0->streamlit) (2023.3)\n",
            "Requirement already satisfied: six>=1.5 in c:\\users\\lionw\\anaconda3\\lib\\site-packages (from python-dateutil<3,>=2.7.3->streamlit) (1.16.0)\n",
            "Requirement already satisfied: charset-normalizer<4,>=2 in c:\\users\\lionw\\anaconda3\\lib\\site-packages (from requests<3,>=2.27->streamlit) (2.0.4)\n",
            "Requirement already satisfied: idna<4,>=2.5 in c:\\users\\lionw\\anaconda3\\lib\\site-packages (from requests<3,>=2.27->streamlit) (3.4)\n",
            "Requirement already satisfied: urllib3<3,>=1.21.1 in c:\\users\\lionw\\anaconda3\\lib\\site-packages (from requests<3,>=2.27->streamlit) (1.26.16)\n",
            "Requirement already satisfied: certifi>=2017.4.17 in c:\\users\\lionw\\anaconda3\\lib\\site-packages (from requests<3,>=2.27->streamlit) (2023.7.22)\n",
            "Requirement already satisfied: markdown-it-py>=2.2.0 in c:\\users\\lionw\\anaconda3\\lib\\site-packages (from rich<14,>=10.14.0->streamlit) (2.2.0)\n",
            "Requirement already satisfied: pygments<3.0.0,>=2.13.0 in c:\\users\\lionw\\anaconda3\\lib\\site-packages (from rich<14,>=10.14.0->streamlit) (2.15.1)\n",
            "Requirement already satisfied: smmap<6,>=3.0.1 in c:\\users\\lionw\\anaconda3\\lib\\site-packages (from gitdb<5,>=4.0.1->gitpython!=3.1.19,<4,>=3.0.7->streamlit) (5.0.1)\n",
            "Requirement already satisfied: MarkupSafe>=2.0 in c:\\users\\lionw\\anaconda3\\lib\\site-packages (from jinja2->altair<6,>=4.0->streamlit) (2.1.1)\n",
            "Requirement already satisfied: attrs>=17.4.0 in c:\\users\\lionw\\anaconda3\\lib\\site-packages (from jsonschema>=3.0->altair<6,>=4.0->streamlit) (22.1.0)\n",
            "Requirement already satisfied: pyrsistent!=0.17.0,!=0.17.1,!=0.17.2,>=0.14.0 in c:\\users\\lionw\\anaconda3\\lib\\site-packages (from jsonschema>=3.0->altair<6,>=4.0->streamlit) (0.18.0)\n",
            "Requirement already satisfied: mdurl~=0.1 in c:\\users\\lionw\\anaconda3\\lib\\site-packages (from markdown-it-py>=2.2.0->rich<14,>=10.14.0->streamlit) (0.1.0)\n",
            "Note: you may need to restart the kernel to use updated packages.\n"
          ]
        }
      ],
      "source": [
        "pip install streamlit"
      ]
    },
    {
      "cell_type": "code",
      "execution_count": 76,
      "metadata": {
        "id": "4cmWv4qc8xWu"
      },
      "outputs": [],
      "source": [
        "import pandas as pd\n",
        "import matplotlib.pyplot as plt\n",
        "import numpy as np\n",
        "import seaborn as sns\n",
        "import streamlit as st\n",
        "from babel.numbers import format_currency\n",
        "sns.set(style='dark')"
      ]
    },
    {
      "cell_type": "markdown",
      "metadata": {
        "id": "7DwSpkkZ9BqV"
      },
      "source": [
        "# Data Wrangling"
      ]
    },
    {
      "cell_type": "markdown",
      "metadata": {
        "id": "Q_5gPw0GxVbj"
      },
      "source": [
        "## Gathering Data"
      ]
    },
    {
      "cell_type": "markdown",
      "metadata": {
        "id": "ZuJuLGxe9D9O"
      },
      "source": [
        "### Gathering Data customer\n"
      ]
    },
    {
      "cell_type": "markdown",
      "metadata": {
        "id": "yHTaSnPYaaz0"
      },
      "source": [
        "Data geolocation_dataset tidak terlalu penting untuk digunakan dan merupakan file yang terlalu besar, sehingga saya tidak menggunakan data tersebut."
      ]
    },
    {
      "cell_type": "code",
      "execution_count": 77,
      "metadata": {
        "colab": {
          "base_uri": "https://localhost:8080/",
          "height": 206
        },
        "id": "g4ROZKQFTl0F",
        "outputId": "49c36f51-8480-4158-a3f3-800ff0625004"
      },
      "outputs": [
        {
          "data": {
            "text/html": [
              "<div>\n",
              "<style scoped>\n",
              "    .dataframe tbody tr th:only-of-type {\n",
              "        vertical-align: middle;\n",
              "    }\n",
              "\n",
              "    .dataframe tbody tr th {\n",
              "        vertical-align: top;\n",
              "    }\n",
              "\n",
              "    .dataframe thead th {\n",
              "        text-align: right;\n",
              "    }\n",
              "</style>\n",
              "<table border=\"1\" class=\"dataframe\">\n",
              "  <thead>\n",
              "    <tr style=\"text-align: right;\">\n",
              "      <th></th>\n",
              "      <th>customer_id</th>\n",
              "      <th>customer_unique_id</th>\n",
              "      <th>customer_zip_code_prefix</th>\n",
              "      <th>customer_city</th>\n",
              "      <th>customer_state</th>\n",
              "    </tr>\n",
              "  </thead>\n",
              "  <tbody>\n",
              "    <tr>\n",
              "      <th>0</th>\n",
              "      <td>06b8999e2fba1a1fbc88172c00ba8bc7</td>\n",
              "      <td>861eff4711a542e4b93843c6dd7febb0</td>\n",
              "      <td>14409</td>\n",
              "      <td>franca</td>\n",
              "      <td>SP</td>\n",
              "    </tr>\n",
              "    <tr>\n",
              "      <th>1</th>\n",
              "      <td>18955e83d337fd6b2def6b18a428ac77</td>\n",
              "      <td>290c77bc529b7ac935b93aa66c333dc3</td>\n",
              "      <td>9790</td>\n",
              "      <td>sao bernardo do campo</td>\n",
              "      <td>SP</td>\n",
              "    </tr>\n",
              "    <tr>\n",
              "      <th>2</th>\n",
              "      <td>4e7b3e00288586ebd08712fdd0374a03</td>\n",
              "      <td>060e732b5b29e8181a18229c7b0b2b5e</td>\n",
              "      <td>1151</td>\n",
              "      <td>sao paulo</td>\n",
              "      <td>SP</td>\n",
              "    </tr>\n",
              "    <tr>\n",
              "      <th>3</th>\n",
              "      <td>b2b6027bc5c5109e529d4dc6358b12c3</td>\n",
              "      <td>259dac757896d24d7702b9acbbff3f3c</td>\n",
              "      <td>8775</td>\n",
              "      <td>mogi das cruzes</td>\n",
              "      <td>SP</td>\n",
              "    </tr>\n",
              "    <tr>\n",
              "      <th>4</th>\n",
              "      <td>4f2d8ab171c80ec8364f7c12e35b23ad</td>\n",
              "      <td>345ecd01c38d18a9036ed96c73b8d066</td>\n",
              "      <td>13056</td>\n",
              "      <td>campinas</td>\n",
              "      <td>SP</td>\n",
              "    </tr>\n",
              "  </tbody>\n",
              "</table>\n",
              "</div>"
            ],
            "text/plain": [
              "                        customer_id                customer_unique_id  \\\n",
              "0  06b8999e2fba1a1fbc88172c00ba8bc7  861eff4711a542e4b93843c6dd7febb0   \n",
              "1  18955e83d337fd6b2def6b18a428ac77  290c77bc529b7ac935b93aa66c333dc3   \n",
              "2  4e7b3e00288586ebd08712fdd0374a03  060e732b5b29e8181a18229c7b0b2b5e   \n",
              "3  b2b6027bc5c5109e529d4dc6358b12c3  259dac757896d24d7702b9acbbff3f3c   \n",
              "4  4f2d8ab171c80ec8364f7c12e35b23ad  345ecd01c38d18a9036ed96c73b8d066   \n",
              "\n",
              "   customer_zip_code_prefix          customer_city customer_state  \n",
              "0                     14409                 franca             SP  \n",
              "1                      9790  sao bernardo do campo             SP  \n",
              "2                      1151              sao paulo             SP  \n",
              "3                      8775        mogi das cruzes             SP  \n",
              "4                     13056               campinas             SP  "
            ]
          },
          "execution_count": 77,
          "metadata": {},
          "output_type": "execute_result"
        }
      ],
      "source": [
        "#Memuat tabel Customer\n",
        "customer_df = pd.read_csv(\"https://raw.githubusercontent.com/WiefranVarenzo/ProyekAnalisisData/main/customers_dataset.csv\")\n",
        "customer_df.head()"
      ]
    },
    {
      "cell_type": "markdown",
      "metadata": {
        "id": "g7H-hhVWtN90"
      },
      "source": [
        "### Gathering Data order_items_dataset"
      ]
    },
    {
      "cell_type": "code",
      "execution_count": 78,
      "metadata": {
        "colab": {
          "base_uri": "https://localhost:8080/",
          "height": 226
        },
        "id": "yLEGXXI0UUHG",
        "outputId": "9b419f62-5bbb-4e36-9b66-4e1a4b1d6794"
      },
      "outputs": [
        {
          "data": {
            "text/html": [
              "<div>\n",
              "<style scoped>\n",
              "    .dataframe tbody tr th:only-of-type {\n",
              "        vertical-align: middle;\n",
              "    }\n",
              "\n",
              "    .dataframe tbody tr th {\n",
              "        vertical-align: top;\n",
              "    }\n",
              "\n",
              "    .dataframe thead th {\n",
              "        text-align: right;\n",
              "    }\n",
              "</style>\n",
              "<table border=\"1\" class=\"dataframe\">\n",
              "  <thead>\n",
              "    <tr style=\"text-align: right;\">\n",
              "      <th></th>\n",
              "      <th>order_id</th>\n",
              "      <th>order_item_id</th>\n",
              "      <th>product_id</th>\n",
              "      <th>seller_id</th>\n",
              "      <th>shipping_limit_date</th>\n",
              "      <th>price</th>\n",
              "      <th>freight_value</th>\n",
              "    </tr>\n",
              "  </thead>\n",
              "  <tbody>\n",
              "    <tr>\n",
              "      <th>0</th>\n",
              "      <td>00010242fe8c5a6d1ba2dd792cb16214</td>\n",
              "      <td>1</td>\n",
              "      <td>4244733e06e7ecb4970a6e2683c13e61</td>\n",
              "      <td>48436dade18ac8b2bce089ec2a041202</td>\n",
              "      <td>2017-09-19 09:45:35</td>\n",
              "      <td>58.90</td>\n",
              "      <td>13.29</td>\n",
              "    </tr>\n",
              "    <tr>\n",
              "      <th>1</th>\n",
              "      <td>00018f77f2f0320c557190d7a144bdd3</td>\n",
              "      <td>1</td>\n",
              "      <td>e5f2d52b802189ee658865ca93d83a8f</td>\n",
              "      <td>dd7ddc04e1b6c2c614352b383efe2d36</td>\n",
              "      <td>2017-05-03 11:05:13</td>\n",
              "      <td>239.90</td>\n",
              "      <td>19.93</td>\n",
              "    </tr>\n",
              "    <tr>\n",
              "      <th>2</th>\n",
              "      <td>000229ec398224ef6ca0657da4fc703e</td>\n",
              "      <td>1</td>\n",
              "      <td>c777355d18b72b67abbeef9df44fd0fd</td>\n",
              "      <td>5b51032eddd242adc84c38acab88f23d</td>\n",
              "      <td>2018-01-18 14:48:30</td>\n",
              "      <td>199.00</td>\n",
              "      <td>17.87</td>\n",
              "    </tr>\n",
              "    <tr>\n",
              "      <th>3</th>\n",
              "      <td>00024acbcdf0a6daa1e931b038114c75</td>\n",
              "      <td>1</td>\n",
              "      <td>7634da152a4610f1595efa32f14722fc</td>\n",
              "      <td>9d7a1d34a5052409006425275ba1c2b4</td>\n",
              "      <td>2018-08-15 10:10:18</td>\n",
              "      <td>12.99</td>\n",
              "      <td>12.79</td>\n",
              "    </tr>\n",
              "    <tr>\n",
              "      <th>4</th>\n",
              "      <td>00042b26cf59d7ce69dfabb4e55b4fd9</td>\n",
              "      <td>1</td>\n",
              "      <td>ac6c3623068f30de03045865e4e10089</td>\n",
              "      <td>df560393f3a51e74553ab94004ba5c87</td>\n",
              "      <td>2017-02-13 13:57:51</td>\n",
              "      <td>199.90</td>\n",
              "      <td>18.14</td>\n",
              "    </tr>\n",
              "  </tbody>\n",
              "</table>\n",
              "</div>"
            ],
            "text/plain": [
              "                           order_id  order_item_id  \\\n",
              "0  00010242fe8c5a6d1ba2dd792cb16214              1   \n",
              "1  00018f77f2f0320c557190d7a144bdd3              1   \n",
              "2  000229ec398224ef6ca0657da4fc703e              1   \n",
              "3  00024acbcdf0a6daa1e931b038114c75              1   \n",
              "4  00042b26cf59d7ce69dfabb4e55b4fd9              1   \n",
              "\n",
              "                         product_id                         seller_id  \\\n",
              "0  4244733e06e7ecb4970a6e2683c13e61  48436dade18ac8b2bce089ec2a041202   \n",
              "1  e5f2d52b802189ee658865ca93d83a8f  dd7ddc04e1b6c2c614352b383efe2d36   \n",
              "2  c777355d18b72b67abbeef9df44fd0fd  5b51032eddd242adc84c38acab88f23d   \n",
              "3  7634da152a4610f1595efa32f14722fc  9d7a1d34a5052409006425275ba1c2b4   \n",
              "4  ac6c3623068f30de03045865e4e10089  df560393f3a51e74553ab94004ba5c87   \n",
              "\n",
              "   shipping_limit_date   price  freight_value  \n",
              "0  2017-09-19 09:45:35   58.90          13.29  \n",
              "1  2017-05-03 11:05:13  239.90          19.93  \n",
              "2  2018-01-18 14:48:30  199.00          17.87  \n",
              "3  2018-08-15 10:10:18   12.99          12.79  \n",
              "4  2017-02-13 13:57:51  199.90          18.14  "
            ]
          },
          "execution_count": 78,
          "metadata": {},
          "output_type": "execute_result"
        }
      ],
      "source": [
        "#Memuat tabel order_items_dataset\n",
        "order_items_dataset = pd.read_csv(\"https://raw.githubusercontent.com/WiefranVarenzo/ProyekAnalisisData/main/order_items_dataset.csv\")\n",
        "order_items_dataset.head()"
      ]
    },
    {
      "cell_type": "markdown",
      "metadata": {
        "id": "UBDedwfFtm0n"
      },
      "source": [
        "### Gathering order_payments_dataset"
      ]
    },
    {
      "cell_type": "code",
      "execution_count": 79,
      "metadata": {
        "colab": {
          "base_uri": "https://localhost:8080/",
          "height": 206
        },
        "id": "Rg3wtvOr9DUm",
        "outputId": "31c82c41-5eae-4f5d-f6f7-7f7b60a880f1"
      },
      "outputs": [
        {
          "data": {
            "text/html": [
              "<div>\n",
              "<style scoped>\n",
              "    .dataframe tbody tr th:only-of-type {\n",
              "        vertical-align: middle;\n",
              "    }\n",
              "\n",
              "    .dataframe tbody tr th {\n",
              "        vertical-align: top;\n",
              "    }\n",
              "\n",
              "    .dataframe thead th {\n",
              "        text-align: right;\n",
              "    }\n",
              "</style>\n",
              "<table border=\"1\" class=\"dataframe\">\n",
              "  <thead>\n",
              "    <tr style=\"text-align: right;\">\n",
              "      <th></th>\n",
              "      <th>order_id</th>\n",
              "      <th>payment_sequential</th>\n",
              "      <th>payment_type</th>\n",
              "      <th>payment_installments</th>\n",
              "      <th>payment_value</th>\n",
              "    </tr>\n",
              "  </thead>\n",
              "  <tbody>\n",
              "    <tr>\n",
              "      <th>0</th>\n",
              "      <td>b81ef226f3fe1789b1e8b2acac839d17</td>\n",
              "      <td>1</td>\n",
              "      <td>credit_card</td>\n",
              "      <td>8</td>\n",
              "      <td>99.33</td>\n",
              "    </tr>\n",
              "    <tr>\n",
              "      <th>1</th>\n",
              "      <td>a9810da82917af2d9aefd1278f1dcfa0</td>\n",
              "      <td>1</td>\n",
              "      <td>credit_card</td>\n",
              "      <td>1</td>\n",
              "      <td>24.39</td>\n",
              "    </tr>\n",
              "    <tr>\n",
              "      <th>2</th>\n",
              "      <td>25e8ea4e93396b6fa0d3dd708e76c1bd</td>\n",
              "      <td>1</td>\n",
              "      <td>credit_card</td>\n",
              "      <td>1</td>\n",
              "      <td>65.71</td>\n",
              "    </tr>\n",
              "    <tr>\n",
              "      <th>3</th>\n",
              "      <td>ba78997921bbcdc1373bb41e913ab953</td>\n",
              "      <td>1</td>\n",
              "      <td>credit_card</td>\n",
              "      <td>8</td>\n",
              "      <td>107.78</td>\n",
              "    </tr>\n",
              "    <tr>\n",
              "      <th>4</th>\n",
              "      <td>42fdf880ba16b47b59251dd489d4441a</td>\n",
              "      <td>1</td>\n",
              "      <td>credit_card</td>\n",
              "      <td>2</td>\n",
              "      <td>128.45</td>\n",
              "    </tr>\n",
              "  </tbody>\n",
              "</table>\n",
              "</div>"
            ],
            "text/plain": [
              "                           order_id  payment_sequential payment_type  \\\n",
              "0  b81ef226f3fe1789b1e8b2acac839d17                   1  credit_card   \n",
              "1  a9810da82917af2d9aefd1278f1dcfa0                   1  credit_card   \n",
              "2  25e8ea4e93396b6fa0d3dd708e76c1bd                   1  credit_card   \n",
              "3  ba78997921bbcdc1373bb41e913ab953                   1  credit_card   \n",
              "4  42fdf880ba16b47b59251dd489d4441a                   1  credit_card   \n",
              "\n",
              "   payment_installments  payment_value  \n",
              "0                     8          99.33  \n",
              "1                     1          24.39  \n",
              "2                     1          65.71  \n",
              "3                     8         107.78  \n",
              "4                     2         128.45  "
            ]
          },
          "execution_count": 79,
          "metadata": {},
          "output_type": "execute_result"
        }
      ],
      "source": [
        "#Memuat tabel order_payments_dataset\n",
        "order_payments_dataset = pd.read_csv(\"https://raw.githubusercontent.com/WiefranVarenzo/ProyekAnalisisData/main/order_payments_dataset.csv\")\n",
        "order_payments_dataset.head()"
      ]
    },
    {
      "cell_type": "markdown",
      "metadata": {
        "id": "ckqnsFgxNDqc"
      },
      "source": []
    },
    {
      "cell_type": "markdown",
      "metadata": {
        "id": "PsbFyt_utqs4"
      },
      "source": [
        "### Gathering order_reviews_dataset"
      ]
    },
    {
      "cell_type": "code",
      "execution_count": 80,
      "metadata": {
        "colab": {
          "base_uri": "https://localhost:8080/",
          "height": 261
        },
        "id": "hD86kUpKVMAx",
        "outputId": "35be09d5-eb5c-46c9-bd83-93ff957a644a"
      },
      "outputs": [
        {
          "data": {
            "text/html": [
              "<div>\n",
              "<style scoped>\n",
              "    .dataframe tbody tr th:only-of-type {\n",
              "        vertical-align: middle;\n",
              "    }\n",
              "\n",
              "    .dataframe tbody tr th {\n",
              "        vertical-align: top;\n",
              "    }\n",
              "\n",
              "    .dataframe thead th {\n",
              "        text-align: right;\n",
              "    }\n",
              "</style>\n",
              "<table border=\"1\" class=\"dataframe\">\n",
              "  <thead>\n",
              "    <tr style=\"text-align: right;\">\n",
              "      <th></th>\n",
              "      <th>review_id</th>\n",
              "      <th>order_id</th>\n",
              "      <th>review_score</th>\n",
              "      <th>review_comment_title</th>\n",
              "      <th>review_comment_message</th>\n",
              "      <th>review_creation_date</th>\n",
              "      <th>review_answer_timestamp</th>\n",
              "    </tr>\n",
              "  </thead>\n",
              "  <tbody>\n",
              "    <tr>\n",
              "      <th>0</th>\n",
              "      <td>7bc2406110b926393aa56f80a40eba40</td>\n",
              "      <td>73fc7af87114b39712e6da79b0a377eb</td>\n",
              "      <td>4</td>\n",
              "      <td>NaN</td>\n",
              "      <td>NaN</td>\n",
              "      <td>2018-01-18 00:00:00</td>\n",
              "      <td>2018-01-18 21:46:59</td>\n",
              "    </tr>\n",
              "    <tr>\n",
              "      <th>1</th>\n",
              "      <td>80e641a11e56f04c1ad469d5645fdfde</td>\n",
              "      <td>a548910a1c6147796b98fdf73dbeba33</td>\n",
              "      <td>5</td>\n",
              "      <td>NaN</td>\n",
              "      <td>NaN</td>\n",
              "      <td>2018-03-10 00:00:00</td>\n",
              "      <td>2018-03-11 03:05:13</td>\n",
              "    </tr>\n",
              "    <tr>\n",
              "      <th>2</th>\n",
              "      <td>228ce5500dc1d8e020d8d1322874b6f0</td>\n",
              "      <td>f9e4b658b201a9f2ecdecbb34bed034b</td>\n",
              "      <td>5</td>\n",
              "      <td>NaN</td>\n",
              "      <td>NaN</td>\n",
              "      <td>2018-02-17 00:00:00</td>\n",
              "      <td>2018-02-18 14:36:24</td>\n",
              "    </tr>\n",
              "    <tr>\n",
              "      <th>3</th>\n",
              "      <td>e64fb393e7b32834bb789ff8bb30750e</td>\n",
              "      <td>658677c97b385a9be170737859d3511b</td>\n",
              "      <td>5</td>\n",
              "      <td>NaN</td>\n",
              "      <td>Recebi bem antes do prazo estipulado.</td>\n",
              "      <td>2017-04-21 00:00:00</td>\n",
              "      <td>2017-04-21 22:02:06</td>\n",
              "    </tr>\n",
              "    <tr>\n",
              "      <th>4</th>\n",
              "      <td>f7c4243c7fe1938f181bec41a392bdeb</td>\n",
              "      <td>8e6bfb81e283fa7e4f11123a3fb894f1</td>\n",
              "      <td>5</td>\n",
              "      <td>NaN</td>\n",
              "      <td>Parabéns lojas lannister adorei comprar pela I...</td>\n",
              "      <td>2018-03-01 00:00:00</td>\n",
              "      <td>2018-03-02 10:26:53</td>\n",
              "    </tr>\n",
              "  </tbody>\n",
              "</table>\n",
              "</div>"
            ],
            "text/plain": [
              "                          review_id                          order_id  \\\n",
              "0  7bc2406110b926393aa56f80a40eba40  73fc7af87114b39712e6da79b0a377eb   \n",
              "1  80e641a11e56f04c1ad469d5645fdfde  a548910a1c6147796b98fdf73dbeba33   \n",
              "2  228ce5500dc1d8e020d8d1322874b6f0  f9e4b658b201a9f2ecdecbb34bed034b   \n",
              "3  e64fb393e7b32834bb789ff8bb30750e  658677c97b385a9be170737859d3511b   \n",
              "4  f7c4243c7fe1938f181bec41a392bdeb  8e6bfb81e283fa7e4f11123a3fb894f1   \n",
              "\n",
              "   review_score review_comment_title  \\\n",
              "0             4                  NaN   \n",
              "1             5                  NaN   \n",
              "2             5                  NaN   \n",
              "3             5                  NaN   \n",
              "4             5                  NaN   \n",
              "\n",
              "                              review_comment_message review_creation_date  \\\n",
              "0                                                NaN  2018-01-18 00:00:00   \n",
              "1                                                NaN  2018-03-10 00:00:00   \n",
              "2                                                NaN  2018-02-17 00:00:00   \n",
              "3              Recebi bem antes do prazo estipulado.  2017-04-21 00:00:00   \n",
              "4  Parabéns lojas lannister adorei comprar pela I...  2018-03-01 00:00:00   \n",
              "\n",
              "  review_answer_timestamp  \n",
              "0     2018-01-18 21:46:59  \n",
              "1     2018-03-11 03:05:13  \n",
              "2     2018-02-18 14:36:24  \n",
              "3     2017-04-21 22:02:06  \n",
              "4     2018-03-02 10:26:53  "
            ]
          },
          "execution_count": 80,
          "metadata": {},
          "output_type": "execute_result"
        }
      ],
      "source": [
        "#Memuat tabel order_reviews_dataset\n",
        "order_reviews_dataset = pd.read_csv(\"https://raw.githubusercontent.com/WiefranVarenzo/ProyekAnalisisData/main/order_reviews_dataset.csv\")\n",
        "order_reviews_dataset.head()"
      ]
    },
    {
      "cell_type": "markdown",
      "metadata": {
        "id": "iycZoC52tuGH"
      },
      "source": [
        "### Gathering order_dataset"
      ]
    },
    {
      "cell_type": "code",
      "execution_count": 81,
      "metadata": {
        "colab": {
          "base_uri": "https://localhost:8080/",
          "height": 226
        },
        "id": "xH3SfriDW7Ig",
        "outputId": "f45b9430-9894-4822-c3a6-2ab76edcebe4"
      },
      "outputs": [
        {
          "data": {
            "text/html": [
              "<div>\n",
              "<style scoped>\n",
              "    .dataframe tbody tr th:only-of-type {\n",
              "        vertical-align: middle;\n",
              "    }\n",
              "\n",
              "    .dataframe tbody tr th {\n",
              "        vertical-align: top;\n",
              "    }\n",
              "\n",
              "    .dataframe thead th {\n",
              "        text-align: right;\n",
              "    }\n",
              "</style>\n",
              "<table border=\"1\" class=\"dataframe\">\n",
              "  <thead>\n",
              "    <tr style=\"text-align: right;\">\n",
              "      <th></th>\n",
              "      <th>order_id</th>\n",
              "      <th>customer_id</th>\n",
              "      <th>order_status</th>\n",
              "      <th>order_purchase_timestamp</th>\n",
              "      <th>order_approved_at</th>\n",
              "      <th>order_delivered_carrier_date</th>\n",
              "      <th>order_delivered_customer_date</th>\n",
              "      <th>order_estimated_delivery_date</th>\n",
              "    </tr>\n",
              "  </thead>\n",
              "  <tbody>\n",
              "    <tr>\n",
              "      <th>0</th>\n",
              "      <td>e481f51cbdc54678b7cc49136f2d6af7</td>\n",
              "      <td>9ef432eb6251297304e76186b10a928d</td>\n",
              "      <td>delivered</td>\n",
              "      <td>2017-10-02 10:56:33</td>\n",
              "      <td>2017-10-02 11:07:15</td>\n",
              "      <td>2017-10-04 19:55:00</td>\n",
              "      <td>2017-10-10 21:25:13</td>\n",
              "      <td>2017-10-18 00:00:00</td>\n",
              "    </tr>\n",
              "    <tr>\n",
              "      <th>1</th>\n",
              "      <td>53cdb2fc8bc7dce0b6741e2150273451</td>\n",
              "      <td>b0830fb4747a6c6d20dea0b8c802d7ef</td>\n",
              "      <td>delivered</td>\n",
              "      <td>2018-07-24 20:41:37</td>\n",
              "      <td>2018-07-26 03:24:27</td>\n",
              "      <td>2018-07-26 14:31:00</td>\n",
              "      <td>2018-08-07 15:27:45</td>\n",
              "      <td>2018-08-13 00:00:00</td>\n",
              "    </tr>\n",
              "    <tr>\n",
              "      <th>2</th>\n",
              "      <td>47770eb9100c2d0c44946d9cf07ec65d</td>\n",
              "      <td>41ce2a54c0b03bf3443c3d931a367089</td>\n",
              "      <td>delivered</td>\n",
              "      <td>2018-08-08 08:38:49</td>\n",
              "      <td>2018-08-08 08:55:23</td>\n",
              "      <td>2018-08-08 13:50:00</td>\n",
              "      <td>2018-08-17 18:06:29</td>\n",
              "      <td>2018-09-04 00:00:00</td>\n",
              "    </tr>\n",
              "    <tr>\n",
              "      <th>3</th>\n",
              "      <td>949d5b44dbf5de918fe9c16f97b45f8a</td>\n",
              "      <td>f88197465ea7920adcdbec7375364d82</td>\n",
              "      <td>delivered</td>\n",
              "      <td>2017-11-18 19:28:06</td>\n",
              "      <td>2017-11-18 19:45:59</td>\n",
              "      <td>2017-11-22 13:39:59</td>\n",
              "      <td>2017-12-02 00:28:42</td>\n",
              "      <td>2017-12-15 00:00:00</td>\n",
              "    </tr>\n",
              "    <tr>\n",
              "      <th>4</th>\n",
              "      <td>ad21c59c0840e6cb83a9ceb5573f8159</td>\n",
              "      <td>8ab97904e6daea8866dbdbc4fb7aad2c</td>\n",
              "      <td>delivered</td>\n",
              "      <td>2018-02-13 21:18:39</td>\n",
              "      <td>2018-02-13 22:20:29</td>\n",
              "      <td>2018-02-14 19:46:34</td>\n",
              "      <td>2018-02-16 18:17:02</td>\n",
              "      <td>2018-02-26 00:00:00</td>\n",
              "    </tr>\n",
              "  </tbody>\n",
              "</table>\n",
              "</div>"
            ],
            "text/plain": [
              "                           order_id                       customer_id  \\\n",
              "0  e481f51cbdc54678b7cc49136f2d6af7  9ef432eb6251297304e76186b10a928d   \n",
              "1  53cdb2fc8bc7dce0b6741e2150273451  b0830fb4747a6c6d20dea0b8c802d7ef   \n",
              "2  47770eb9100c2d0c44946d9cf07ec65d  41ce2a54c0b03bf3443c3d931a367089   \n",
              "3  949d5b44dbf5de918fe9c16f97b45f8a  f88197465ea7920adcdbec7375364d82   \n",
              "4  ad21c59c0840e6cb83a9ceb5573f8159  8ab97904e6daea8866dbdbc4fb7aad2c   \n",
              "\n",
              "  order_status order_purchase_timestamp    order_approved_at  \\\n",
              "0    delivered      2017-10-02 10:56:33  2017-10-02 11:07:15   \n",
              "1    delivered      2018-07-24 20:41:37  2018-07-26 03:24:27   \n",
              "2    delivered      2018-08-08 08:38:49  2018-08-08 08:55:23   \n",
              "3    delivered      2017-11-18 19:28:06  2017-11-18 19:45:59   \n",
              "4    delivered      2018-02-13 21:18:39  2018-02-13 22:20:29   \n",
              "\n",
              "  order_delivered_carrier_date order_delivered_customer_date  \\\n",
              "0          2017-10-04 19:55:00           2017-10-10 21:25:13   \n",
              "1          2018-07-26 14:31:00           2018-08-07 15:27:45   \n",
              "2          2018-08-08 13:50:00           2018-08-17 18:06:29   \n",
              "3          2017-11-22 13:39:59           2017-12-02 00:28:42   \n",
              "4          2018-02-14 19:46:34           2018-02-16 18:17:02   \n",
              "\n",
              "  order_estimated_delivery_date  \n",
              "0           2017-10-18 00:00:00  \n",
              "1           2018-08-13 00:00:00  \n",
              "2           2018-09-04 00:00:00  \n",
              "3           2017-12-15 00:00:00  \n",
              "4           2018-02-26 00:00:00  "
            ]
          },
          "execution_count": 81,
          "metadata": {},
          "output_type": "execute_result"
        }
      ],
      "source": [
        "#Memuat tabel order_dataset\n",
        "order_datasetorder_dataset = pd.read_csv(\"https://raw.githubusercontent.com/WiefranVarenzo/ProyekAnalisisData/main/orders_dataset.csv\")\n",
        "order_dataset.head()"
      ]
    },
    {
      "cell_type": "markdown",
      "metadata": {
        "id": "ysitVqYKtxz-"
      },
      "source": [
        "### Gathering product_dataset"
      ]
    },
    {
      "cell_type": "code",
      "execution_count": 82,
      "metadata": {
        "colab": {
          "base_uri": "https://localhost:8080/",
          "height": 226
        },
        "id": "OUDzgdlKZRxM",
        "outputId": "a654c920-2a3d-48d1-9c1c-fcf4294527ad"
      },
      "outputs": [
        {
          "data": {
            "text/html": [
              "<div>\n",
              "<style scoped>\n",
              "    .dataframe tbody tr th:only-of-type {\n",
              "        vertical-align: middle;\n",
              "    }\n",
              "\n",
              "    .dataframe tbody tr th {\n",
              "        vertical-align: top;\n",
              "    }\n",
              "\n",
              "    .dataframe thead th {\n",
              "        text-align: right;\n",
              "    }\n",
              "</style>\n",
              "<table border=\"1\" class=\"dataframe\">\n",
              "  <thead>\n",
              "    <tr style=\"text-align: right;\">\n",
              "      <th></th>\n",
              "      <th>product_id</th>\n",
              "      <th>product_category_name</th>\n",
              "      <th>product_name_lenght</th>\n",
              "      <th>product_description_lenght</th>\n",
              "      <th>product_photos_qty</th>\n",
              "      <th>product_weight_g</th>\n",
              "      <th>product_length_cm</th>\n",
              "      <th>product_height_cm</th>\n",
              "      <th>product_width_cm</th>\n",
              "    </tr>\n",
              "  </thead>\n",
              "  <tbody>\n",
              "    <tr>\n",
              "      <th>0</th>\n",
              "      <td>1e9e8ef04dbcff4541ed26657ea517e5</td>\n",
              "      <td>perfumaria</td>\n",
              "      <td>40.0</td>\n",
              "      <td>287.0</td>\n",
              "      <td>1.0</td>\n",
              "      <td>225.0</td>\n",
              "      <td>16.0</td>\n",
              "      <td>10.0</td>\n",
              "      <td>14.0</td>\n",
              "    </tr>\n",
              "    <tr>\n",
              "      <th>1</th>\n",
              "      <td>3aa071139cb16b67ca9e5dea641aaa2f</td>\n",
              "      <td>artes</td>\n",
              "      <td>44.0</td>\n",
              "      <td>276.0</td>\n",
              "      <td>1.0</td>\n",
              "      <td>1000.0</td>\n",
              "      <td>30.0</td>\n",
              "      <td>18.0</td>\n",
              "      <td>20.0</td>\n",
              "    </tr>\n",
              "    <tr>\n",
              "      <th>2</th>\n",
              "      <td>96bd76ec8810374ed1b65e291975717f</td>\n",
              "      <td>esporte_lazer</td>\n",
              "      <td>46.0</td>\n",
              "      <td>250.0</td>\n",
              "      <td>1.0</td>\n",
              "      <td>154.0</td>\n",
              "      <td>18.0</td>\n",
              "      <td>9.0</td>\n",
              "      <td>15.0</td>\n",
              "    </tr>\n",
              "    <tr>\n",
              "      <th>3</th>\n",
              "      <td>cef67bcfe19066a932b7673e239eb23d</td>\n",
              "      <td>bebes</td>\n",
              "      <td>27.0</td>\n",
              "      <td>261.0</td>\n",
              "      <td>1.0</td>\n",
              "      <td>371.0</td>\n",
              "      <td>26.0</td>\n",
              "      <td>4.0</td>\n",
              "      <td>26.0</td>\n",
              "    </tr>\n",
              "    <tr>\n",
              "      <th>4</th>\n",
              "      <td>9dc1a7de274444849c219cff195d0b71</td>\n",
              "      <td>utilidades_domesticas</td>\n",
              "      <td>37.0</td>\n",
              "      <td>402.0</td>\n",
              "      <td>4.0</td>\n",
              "      <td>625.0</td>\n",
              "      <td>20.0</td>\n",
              "      <td>17.0</td>\n",
              "      <td>13.0</td>\n",
              "    </tr>\n",
              "  </tbody>\n",
              "</table>\n",
              "</div>"
            ],
            "text/plain": [
              "                         product_id  product_category_name  \\\n",
              "0  1e9e8ef04dbcff4541ed26657ea517e5             perfumaria   \n",
              "1  3aa071139cb16b67ca9e5dea641aaa2f                  artes   \n",
              "2  96bd76ec8810374ed1b65e291975717f          esporte_lazer   \n",
              "3  cef67bcfe19066a932b7673e239eb23d                  bebes   \n",
              "4  9dc1a7de274444849c219cff195d0b71  utilidades_domesticas   \n",
              "\n",
              "   product_name_lenght  product_description_lenght  product_photos_qty  \\\n",
              "0                 40.0                       287.0                 1.0   \n",
              "1                 44.0                       276.0                 1.0   \n",
              "2                 46.0                       250.0                 1.0   \n",
              "3                 27.0                       261.0                 1.0   \n",
              "4                 37.0                       402.0                 4.0   \n",
              "\n",
              "   product_weight_g  product_length_cm  product_height_cm  product_width_cm  \n",
              "0             225.0               16.0               10.0              14.0  \n",
              "1            1000.0               30.0               18.0              20.0  \n",
              "2             154.0               18.0                9.0              15.0  \n",
              "3             371.0               26.0                4.0              26.0  \n",
              "4             625.0               20.0               17.0              13.0  "
            ]
          },
          "execution_count": 82,
          "metadata": {},
          "output_type": "execute_result"
        }
      ],
      "source": [
        "#Memuat tabel produk_dataset\n",
        "product_dataset = pd.read_csv(\"https://raw.githubusercontent.com/WiefranVarenzo/ProyekAnalisisData/main/products_dataset.csv\")\n",
        "product_dataset.head()"
      ]
    },
    {
      "cell_type": "markdown",
      "metadata": {
        "id": "M0kPwTvWt1AL"
      },
      "source": [
        "###Gathering seller_dataset"
      ]
    },
    {
      "cell_type": "code",
      "execution_count": 83,
      "metadata": {
        "colab": {
          "base_uri": "https://localhost:8080/",
          "height": 206
        },
        "id": "bO9jGfBsZ8cE",
        "outputId": "73cad02d-8e2b-4163-fec0-2c5adfb34d16"
      },
      "outputs": [
        {
          "data": {
            "text/html": [
              "<div>\n",
              "<style scoped>\n",
              "    .dataframe tbody tr th:only-of-type {\n",
              "        vertical-align: middle;\n",
              "    }\n",
              "\n",
              "    .dataframe tbody tr th {\n",
              "        vertical-align: top;\n",
              "    }\n",
              "\n",
              "    .dataframe thead th {\n",
              "        text-align: right;\n",
              "    }\n",
              "</style>\n",
              "<table border=\"1\" class=\"dataframe\">\n",
              "  <thead>\n",
              "    <tr style=\"text-align: right;\">\n",
              "      <th></th>\n",
              "      <th>seller_id</th>\n",
              "      <th>seller_zip_code_prefix</th>\n",
              "      <th>seller_city</th>\n",
              "      <th>seller_state</th>\n",
              "    </tr>\n",
              "  </thead>\n",
              "  <tbody>\n",
              "    <tr>\n",
              "      <th>0</th>\n",
              "      <td>3442f8959a84dea7ee197c632cb2df15</td>\n",
              "      <td>13023</td>\n",
              "      <td>campinas</td>\n",
              "      <td>SP</td>\n",
              "    </tr>\n",
              "    <tr>\n",
              "      <th>1</th>\n",
              "      <td>d1b65fc7debc3361ea86b5f14c68d2e2</td>\n",
              "      <td>13844</td>\n",
              "      <td>mogi guacu</td>\n",
              "      <td>SP</td>\n",
              "    </tr>\n",
              "    <tr>\n",
              "      <th>2</th>\n",
              "      <td>ce3ad9de960102d0677a81f5d0bb7b2d</td>\n",
              "      <td>20031</td>\n",
              "      <td>rio de janeiro</td>\n",
              "      <td>RJ</td>\n",
              "    </tr>\n",
              "    <tr>\n",
              "      <th>3</th>\n",
              "      <td>c0f3eea2e14555b6faeea3dd58c1b1c3</td>\n",
              "      <td>4195</td>\n",
              "      <td>sao paulo</td>\n",
              "      <td>SP</td>\n",
              "    </tr>\n",
              "    <tr>\n",
              "      <th>4</th>\n",
              "      <td>51a04a8a6bdcb23deccc82b0b80742cf</td>\n",
              "      <td>12914</td>\n",
              "      <td>braganca paulista</td>\n",
              "      <td>SP</td>\n",
              "    </tr>\n",
              "  </tbody>\n",
              "</table>\n",
              "</div>"
            ],
            "text/plain": [
              "                          seller_id  seller_zip_code_prefix  \\\n",
              "0  3442f8959a84dea7ee197c632cb2df15                   13023   \n",
              "1  d1b65fc7debc3361ea86b5f14c68d2e2                   13844   \n",
              "2  ce3ad9de960102d0677a81f5d0bb7b2d                   20031   \n",
              "3  c0f3eea2e14555b6faeea3dd58c1b1c3                    4195   \n",
              "4  51a04a8a6bdcb23deccc82b0b80742cf                   12914   \n",
              "\n",
              "         seller_city seller_state  \n",
              "0           campinas           SP  \n",
              "1         mogi guacu           SP  \n",
              "2     rio de janeiro           RJ  \n",
              "3          sao paulo           SP  \n",
              "4  braganca paulista           SP  "
            ]
          },
          "execution_count": 83,
          "metadata": {},
          "output_type": "execute_result"
        }
      ],
      "source": [
        "#Memuat tabel seller_dataset\n",
        "seller_dataset = pd.read_csv(\"https://raw.githubusercontent.com/WiefranVarenzo/ProyekAnalisisData/main/sellers_dataset.csv\")\n",
        "seller_dataset.head()"
      ]
    },
    {
      "cell_type": "markdown",
      "metadata": {
        "id": "MZ14DW7yt9de"
      },
      "source": [
        "###Gathering product_category_name_translation"
      ]
    },
    {
      "cell_type": "code",
      "execution_count": 84,
      "metadata": {
        "colab": {
          "base_uri": "https://localhost:8080/",
          "height": 206
        },
        "id": "ZFX-uEuiuGwR",
        "outputId": "89db03f0-af46-4075-e348-754b9079197b"
      },
      "outputs": [
        {
          "data": {
            "text/html": [
              "<div>\n",
              "<style scoped>\n",
              "    .dataframe tbody tr th:only-of-type {\n",
              "        vertical-align: middle;\n",
              "    }\n",
              "\n",
              "    .dataframe tbody tr th {\n",
              "        vertical-align: top;\n",
              "    }\n",
              "\n",
              "    .dataframe thead th {\n",
              "        text-align: right;\n",
              "    }\n",
              "</style>\n",
              "<table border=\"1\" class=\"dataframe\">\n",
              "  <thead>\n",
              "    <tr style=\"text-align: right;\">\n",
              "      <th></th>\n",
              "      <th>product_category_name</th>\n",
              "      <th>product_category_name_english</th>\n",
              "    </tr>\n",
              "  </thead>\n",
              "  <tbody>\n",
              "    <tr>\n",
              "      <th>0</th>\n",
              "      <td>beleza_saude</td>\n",
              "      <td>health_beauty</td>\n",
              "    </tr>\n",
              "    <tr>\n",
              "      <th>1</th>\n",
              "      <td>informatica_acessorios</td>\n",
              "      <td>computers_accessories</td>\n",
              "    </tr>\n",
              "    <tr>\n",
              "      <th>2</th>\n",
              "      <td>automotivo</td>\n",
              "      <td>auto</td>\n",
              "    </tr>\n",
              "    <tr>\n",
              "      <th>3</th>\n",
              "      <td>cama_mesa_banho</td>\n",
              "      <td>bed_bath_table</td>\n",
              "    </tr>\n",
              "    <tr>\n",
              "      <th>4</th>\n",
              "      <td>moveis_decoracao</td>\n",
              "      <td>furniture_decor</td>\n",
              "    </tr>\n",
              "  </tbody>\n",
              "</table>\n",
              "</div>"
            ],
            "text/plain": [
              "    product_category_name product_category_name_english\n",
              "0            beleza_saude                 health_beauty\n",
              "1  informatica_acessorios         computers_accessories\n",
              "2              automotivo                          auto\n",
              "3         cama_mesa_banho                bed_bath_table\n",
              "4        moveis_decoracao               furniture_decor"
            ]
          },
          "execution_count": 84,
          "metadata": {},
          "output_type": "execute_result"
        }
      ],
      "source": [
        "#Memuat tabel product_category_name_translation_dataset\n",
        "product_category_name_translation = pd.read_csv(\"https://raw.githubusercontent.com/WiefranVarenzo/ProyekAnalisisData/main/product_category_name_translation.csv\")\n",
        "product_category_name_translation.head()"
      ]
    },
    {
      "cell_type": "markdown",
      "metadata": {
        "id": "E3uNQw-IxeDy"
      },
      "source": [
        "## Assessing Data"
      ]
    },
    {
      "cell_type": "markdown",
      "metadata": {
        "id": "BvZAfrSH9F2U"
      },
      "source": [
        "### Assessing Data customer_df\n"
      ]
    },
    {
      "cell_type": "code",
      "execution_count": 85,
      "metadata": {
        "colab": {
          "base_uri": "https://localhost:8080/"
        },
        "id": "fx7PaLsV9G8M",
        "outputId": "0c1f6972-ab8c-43cf-ef13-afbace6cde45"
      },
      "outputs": [
        {
          "name": "stdout",
          "output_type": "stream",
          "text": [
            "<class 'pandas.core.frame.DataFrame'>\n",
            "RangeIndex: 99441 entries, 0 to 99440\n",
            "Data columns (total 5 columns):\n",
            " #   Column                    Non-Null Count  Dtype \n",
            "---  ------                    --------------  ----- \n",
            " 0   customer_id               99441 non-null  object\n",
            " 1   customer_unique_id        99441 non-null  object\n",
            " 2   customer_zip_code_prefix  99441 non-null  int64 \n",
            " 3   customer_city             99441 non-null  object\n",
            " 4   customer_state            99441 non-null  object\n",
            "dtypes: int64(1), object(4)\n",
            "memory usage: 3.8+ MB\n"
          ]
        },
        {
          "data": {
            "text/plain": [
              "customer_id                 0\n",
              "customer_unique_id          0\n",
              "customer_zip_code_prefix    0\n",
              "customer_city               0\n",
              "customer_state              0\n",
              "dtype: int64"
            ]
          },
          "execution_count": 85,
          "metadata": {},
          "output_type": "execute_result"
        }
      ],
      "source": [
        "#Melihat informasi dari tabel customer\n",
        "customer_df.info()\n",
        "#Melihat apakah ada missing value\n",
        "customer_df.isna().sum()\n"
      ]
    },
    {
      "cell_type": "markdown",
      "metadata": {
        "id": "89Ep2rfxYQal"
      },
      "source": [
        "Dapat disimpulkan bahwa tabel customer tidak memiliki adanya missing value, tipe data benar."
      ]
    },
    {
      "cell_type": "code",
      "execution_count": 86,
      "metadata": {
        "colab": {
          "base_uri": "https://localhost:8080/"
        },
        "id": "xCNDwrBlZQug",
        "outputId": "a16ab32e-d126-4215-a14d-ec860cc50e7c"
      },
      "outputs": [
        {
          "name": "stdout",
          "output_type": "stream",
          "text": [
            "Jumlah duplikasi:  0\n"
          ]
        }
      ],
      "source": [
        "#Melihat apakah di table customer_df ada data yang di duplikat\n",
        "print(\"Jumlah duplikasi: \", customer_df.duplicated().sum())\n"
      ]
    },
    {
      "cell_type": "markdown",
      "metadata": {
        "id": "zQontrzUZUJ8"
      },
      "source": [
        "Terdapat 0 duplikasi pada customer_df."
      ]
    },
    {
      "cell_type": "markdown",
      "metadata": {
        "id": "4oSgkQGFZrOO"
      },
      "source": [
        "Bisa dilihat juga bahwa customer_df memiliki duplikat data yang benar."
      ]
    },
    {
      "cell_type": "markdown",
      "metadata": {
        "id": "ZGO_aSk-vI9n"
      },
      "source": [
        "### Assessing Data order_items_dataset\n"
      ]
    },
    {
      "cell_type": "code",
      "execution_count": 87,
      "metadata": {
        "colab": {
          "base_uri": "https://localhost:8080/"
        },
        "id": "gClENYF6Zga2",
        "outputId": "c9ed1f8f-a86b-4f7e-c871-8cd765e046d7"
      },
      "outputs": [
        {
          "name": "stdout",
          "output_type": "stream",
          "text": [
            "<class 'pandas.core.frame.DataFrame'>\n",
            "RangeIndex: 112650 entries, 0 to 112649\n",
            "Data columns (total 7 columns):\n",
            " #   Column               Non-Null Count   Dtype  \n",
            "---  ------               --------------   -----  \n",
            " 0   order_id             112650 non-null  object \n",
            " 1   order_item_id        112650 non-null  int64  \n",
            " 2   product_id           112650 non-null  object \n",
            " 3   seller_id            112650 non-null  object \n",
            " 4   shipping_limit_date  112650 non-null  object \n",
            " 5   price                112650 non-null  float64\n",
            " 6   freight_value        112650 non-null  float64\n",
            "dtypes: float64(2), int64(1), object(4)\n",
            "memory usage: 6.0+ MB\n"
          ]
        },
        {
          "data": {
            "text/plain": [
              "order_id               0\n",
              "order_item_id          0\n",
              "product_id             0\n",
              "seller_id              0\n",
              "shipping_limit_date    0\n",
              "price                  0\n",
              "freight_value          0\n",
              "dtype: int64"
            ]
          },
          "execution_count": 87,
          "metadata": {},
          "output_type": "execute_result"
        }
      ],
      "source": [
        "#Melihat informasi dari tabel order_items_dataset\n",
        "order_items_dataset.info()\n",
        "#Melihat apakah ada missing value\n",
        "order_items_dataset.isna().sum()"
      ]
    },
    {
      "cell_type": "markdown",
      "metadata": {
        "id": "lKtu_wiQQRV1"
      },
      "source": [
        "Pada order_items_dataset tidak ada missing value, namun shipping_limit_datenya harusnya memiliki tipe data date."
      ]
    },
    {
      "cell_type": "code",
      "execution_count": 88,
      "metadata": {
        "colab": {
          "base_uri": "https://localhost:8080/",
          "height": 317
        },
        "id": "xaH_JIm-Z4DM",
        "outputId": "8ea75dc6-4697-428b-be3c-d0fbb17ae27e"
      },
      "outputs": [
        {
          "name": "stdout",
          "output_type": "stream",
          "text": [
            "Jumlah duplikasi:  0\n"
          ]
        },
        {
          "data": {
            "text/html": [
              "<div>\n",
              "<style scoped>\n",
              "    .dataframe tbody tr th:only-of-type {\n",
              "        vertical-align: middle;\n",
              "    }\n",
              "\n",
              "    .dataframe tbody tr th {\n",
              "        vertical-align: top;\n",
              "    }\n",
              "\n",
              "    .dataframe thead th {\n",
              "        text-align: right;\n",
              "    }\n",
              "</style>\n",
              "<table border=\"1\" class=\"dataframe\">\n",
              "  <thead>\n",
              "    <tr style=\"text-align: right;\">\n",
              "      <th></th>\n",
              "      <th>order_item_id</th>\n",
              "      <th>price</th>\n",
              "      <th>freight_value</th>\n",
              "    </tr>\n",
              "  </thead>\n",
              "  <tbody>\n",
              "    <tr>\n",
              "      <th>count</th>\n",
              "      <td>112650.000000</td>\n",
              "      <td>112650.000000</td>\n",
              "      <td>112650.000000</td>\n",
              "    </tr>\n",
              "    <tr>\n",
              "      <th>mean</th>\n",
              "      <td>1.197834</td>\n",
              "      <td>120.653739</td>\n",
              "      <td>19.990320</td>\n",
              "    </tr>\n",
              "    <tr>\n",
              "      <th>std</th>\n",
              "      <td>0.705124</td>\n",
              "      <td>183.633928</td>\n",
              "      <td>15.806405</td>\n",
              "    </tr>\n",
              "    <tr>\n",
              "      <th>min</th>\n",
              "      <td>1.000000</td>\n",
              "      <td>0.850000</td>\n",
              "      <td>0.000000</td>\n",
              "    </tr>\n",
              "    <tr>\n",
              "      <th>25%</th>\n",
              "      <td>1.000000</td>\n",
              "      <td>39.900000</td>\n",
              "      <td>13.080000</td>\n",
              "    </tr>\n",
              "    <tr>\n",
              "      <th>50%</th>\n",
              "      <td>1.000000</td>\n",
              "      <td>74.990000</td>\n",
              "      <td>16.260000</td>\n",
              "    </tr>\n",
              "    <tr>\n",
              "      <th>75%</th>\n",
              "      <td>1.000000</td>\n",
              "      <td>134.900000</td>\n",
              "      <td>21.150000</td>\n",
              "    </tr>\n",
              "    <tr>\n",
              "      <th>max</th>\n",
              "      <td>21.000000</td>\n",
              "      <td>6735.000000</td>\n",
              "      <td>409.680000</td>\n",
              "    </tr>\n",
              "  </tbody>\n",
              "</table>\n",
              "</div>"
            ],
            "text/plain": [
              "       order_item_id          price  freight_value\n",
              "count  112650.000000  112650.000000  112650.000000\n",
              "mean        1.197834     120.653739      19.990320\n",
              "std         0.705124     183.633928      15.806405\n",
              "min         1.000000       0.850000       0.000000\n",
              "25%         1.000000      39.900000      13.080000\n",
              "50%         1.000000      74.990000      16.260000\n",
              "75%         1.000000     134.900000      21.150000\n",
              "max        21.000000    6735.000000     409.680000"
            ]
          },
          "execution_count": 88,
          "metadata": {},
          "output_type": "execute_result"
        }
      ],
      "source": [
        "#Melihat apakah di table order_items_dataset ada data yang di duplikat\n",
        "print(\"Jumlah duplikasi: \", order_items_dataset.duplicated().sum())\n",
        "#Melihat apakah di table order_items_dataset ada inaccurate Data\n",
        "order_items_dataset.describe()"
      ]
    },
    {
      "cell_type": "markdown",
      "metadata": {
        "id": "97NpAYfz8Api"
      },
      "source": [
        "Dari sini bisa kita lihat, bahwa tidak ada missing value, tidak ada duplikat data, dan inaccurate data."
      ]
    },
    {
      "cell_type": "markdown",
      "metadata": {
        "id": "__sGb5DivbUr"
      },
      "source": [
        "### Assessing Data order_payments_dataset\n"
      ]
    },
    {
      "cell_type": "code",
      "execution_count": 89,
      "metadata": {
        "colab": {
          "base_uri": "https://localhost:8080/"
        },
        "id": "FPlcrDw-7-ef",
        "outputId": "bf6843ca-c31e-4e22-c692-e4bd25c6ce97"
      },
      "outputs": [
        {
          "name": "stdout",
          "output_type": "stream",
          "text": [
            "<class 'pandas.core.frame.DataFrame'>\n",
            "RangeIndex: 103886 entries, 0 to 103885\n",
            "Data columns (total 5 columns):\n",
            " #   Column                Non-Null Count   Dtype  \n",
            "---  ------                --------------   -----  \n",
            " 0   order_id              103886 non-null  object \n",
            " 1   payment_sequential    103886 non-null  int64  \n",
            " 2   payment_type          103886 non-null  object \n",
            " 3   payment_installments  103886 non-null  int64  \n",
            " 4   payment_value         103886 non-null  float64\n",
            "dtypes: float64(1), int64(2), object(2)\n",
            "memory usage: 4.0+ MB\n"
          ]
        },
        {
          "data": {
            "text/plain": [
              "order_id                0\n",
              "payment_sequential      0\n",
              "payment_type            0\n",
              "payment_installments    0\n",
              "payment_value           0\n",
              "dtype: int64"
            ]
          },
          "execution_count": 89,
          "metadata": {},
          "output_type": "execute_result"
        }
      ],
      "source": [
        "#Melihat informasi dari tabel order_payments_dataset\n",
        "order_payments_dataset.info()\n",
        "#Melihat apakah ada missing value\n",
        "order_payments_dataset.isna().sum()"
      ]
    },
    {
      "cell_type": "code",
      "execution_count": 90,
      "metadata": {
        "colab": {
          "base_uri": "https://localhost:8080/",
          "height": 317
        },
        "id": "z5QfI-it9mR-",
        "outputId": "9b5c3103-af36-444d-b2cc-0f468d06e220"
      },
      "outputs": [
        {
          "name": "stdout",
          "output_type": "stream",
          "text": [
            "Jumlah duplikasi:  0\n"
          ]
        },
        {
          "data": {
            "text/html": [
              "<div>\n",
              "<style scoped>\n",
              "    .dataframe tbody tr th:only-of-type {\n",
              "        vertical-align: middle;\n",
              "    }\n",
              "\n",
              "    .dataframe tbody tr th {\n",
              "        vertical-align: top;\n",
              "    }\n",
              "\n",
              "    .dataframe thead th {\n",
              "        text-align: right;\n",
              "    }\n",
              "</style>\n",
              "<table border=\"1\" class=\"dataframe\">\n",
              "  <thead>\n",
              "    <tr style=\"text-align: right;\">\n",
              "      <th></th>\n",
              "      <th>payment_sequential</th>\n",
              "      <th>payment_installments</th>\n",
              "      <th>payment_value</th>\n",
              "    </tr>\n",
              "  </thead>\n",
              "  <tbody>\n",
              "    <tr>\n",
              "      <th>count</th>\n",
              "      <td>103886.000000</td>\n",
              "      <td>103886.000000</td>\n",
              "      <td>103886.000000</td>\n",
              "    </tr>\n",
              "    <tr>\n",
              "      <th>mean</th>\n",
              "      <td>1.092679</td>\n",
              "      <td>2.853349</td>\n",
              "      <td>154.100380</td>\n",
              "    </tr>\n",
              "    <tr>\n",
              "      <th>std</th>\n",
              "      <td>0.706584</td>\n",
              "      <td>2.687051</td>\n",
              "      <td>217.494064</td>\n",
              "    </tr>\n",
              "    <tr>\n",
              "      <th>min</th>\n",
              "      <td>1.000000</td>\n",
              "      <td>0.000000</td>\n",
              "      <td>0.000000</td>\n",
              "    </tr>\n",
              "    <tr>\n",
              "      <th>25%</th>\n",
              "      <td>1.000000</td>\n",
              "      <td>1.000000</td>\n",
              "      <td>56.790000</td>\n",
              "    </tr>\n",
              "    <tr>\n",
              "      <th>50%</th>\n",
              "      <td>1.000000</td>\n",
              "      <td>1.000000</td>\n",
              "      <td>100.000000</td>\n",
              "    </tr>\n",
              "    <tr>\n",
              "      <th>75%</th>\n",
              "      <td>1.000000</td>\n",
              "      <td>4.000000</td>\n",
              "      <td>171.837500</td>\n",
              "    </tr>\n",
              "    <tr>\n",
              "      <th>max</th>\n",
              "      <td>29.000000</td>\n",
              "      <td>24.000000</td>\n",
              "      <td>13664.080000</td>\n",
              "    </tr>\n",
              "  </tbody>\n",
              "</table>\n",
              "</div>"
            ],
            "text/plain": [
              "       payment_sequential  payment_installments  payment_value\n",
              "count       103886.000000         103886.000000  103886.000000\n",
              "mean             1.092679              2.853349     154.100380\n",
              "std              0.706584              2.687051     217.494064\n",
              "min              1.000000              0.000000       0.000000\n",
              "25%              1.000000              1.000000      56.790000\n",
              "50%              1.000000              1.000000     100.000000\n",
              "75%              1.000000              4.000000     171.837500\n",
              "max             29.000000             24.000000   13664.080000"
            ]
          },
          "execution_count": 90,
          "metadata": {},
          "output_type": "execute_result"
        }
      ],
      "source": [
        "#Melihat apakah di table order_payments_dataset ada data yang di duplikat\n",
        "print(\"Jumlah duplikasi: \", order_payments_dataset.duplicated().sum())\n",
        "#Melihat apakah di table order_payments_dataset ada inaccurate Data\n",
        "order_payments_dataset.describe()"
      ]
    },
    {
      "cell_type": "markdown",
      "metadata": {
        "id": "BxO2KNjivfP5"
      },
      "source": [
        "### Assessing Data order_reviews_dataset"
      ]
    },
    {
      "cell_type": "code",
      "execution_count": 91,
      "metadata": {
        "colab": {
          "base_uri": "https://localhost:8080/"
        },
        "id": "_f-jRmWlD5QX",
        "outputId": "6d307734-4c08-486b-8705-93a987925bcb"
      },
      "outputs": [
        {
          "name": "stdout",
          "output_type": "stream",
          "text": [
            "<class 'pandas.core.frame.DataFrame'>\n",
            "RangeIndex: 99224 entries, 0 to 99223\n",
            "Data columns (total 7 columns):\n",
            " #   Column                   Non-Null Count  Dtype \n",
            "---  ------                   --------------  ----- \n",
            " 0   review_id                99224 non-null  object\n",
            " 1   order_id                 99224 non-null  object\n",
            " 2   review_score             99224 non-null  int64 \n",
            " 3   review_comment_title     11568 non-null  object\n",
            " 4   review_comment_message   40977 non-null  object\n",
            " 5   review_creation_date     99224 non-null  object\n",
            " 6   review_answer_timestamp  99224 non-null  object\n",
            "dtypes: int64(1), object(6)\n",
            "memory usage: 5.3+ MB\n"
          ]
        },
        {
          "data": {
            "text/plain": [
              "review_id                      0\n",
              "order_id                       0\n",
              "review_score                   0\n",
              "review_comment_title       87656\n",
              "review_comment_message     58247\n",
              "review_creation_date           0\n",
              "review_answer_timestamp        0\n",
              "dtype: int64"
            ]
          },
          "execution_count": 91,
          "metadata": {},
          "output_type": "execute_result"
        }
      ],
      "source": [
        "#Melihat informasi dari tabel order_reviews_dataset\n",
        "order_reviews_dataset.info()\n",
        "#Melihat apakah ada missing value\n",
        "order_reviews_dataset.isna().sum()"
      ]
    },
    {
      "cell_type": "markdown",
      "metadata": {
        "id": "fOXfM7JxPVAF"
      },
      "source": [
        "Dari sini kita menemukan bahwa ada missing value dari review_comment_title dan review_comment_message.\n",
        "\n",
        "Kemudian review_creation_date, dan review_answer_timestamp memiliki tipe data yang salah yaitu harusnya adalah bertipe date."
      ]
    },
    {
      "cell_type": "code",
      "execution_count": 92,
      "metadata": {
        "colab": {
          "base_uri": "https://localhost:8080/",
          "height": 317
        },
        "id": "JEuq1jERFNs5",
        "outputId": "10e76858-2753-4c36-ee52-8a2652d0e41d"
      },
      "outputs": [
        {
          "name": "stdout",
          "output_type": "stream",
          "text": [
            "Jumlah duplikasi:  0\n"
          ]
        },
        {
          "data": {
            "text/html": [
              "<div>\n",
              "<style scoped>\n",
              "    .dataframe tbody tr th:only-of-type {\n",
              "        vertical-align: middle;\n",
              "    }\n",
              "\n",
              "    .dataframe tbody tr th {\n",
              "        vertical-align: top;\n",
              "    }\n",
              "\n",
              "    .dataframe thead th {\n",
              "        text-align: right;\n",
              "    }\n",
              "</style>\n",
              "<table border=\"1\" class=\"dataframe\">\n",
              "  <thead>\n",
              "    <tr style=\"text-align: right;\">\n",
              "      <th></th>\n",
              "      <th>review_score</th>\n",
              "    </tr>\n",
              "  </thead>\n",
              "  <tbody>\n",
              "    <tr>\n",
              "      <th>count</th>\n",
              "      <td>99224.000000</td>\n",
              "    </tr>\n",
              "    <tr>\n",
              "      <th>mean</th>\n",
              "      <td>4.086421</td>\n",
              "    </tr>\n",
              "    <tr>\n",
              "      <th>std</th>\n",
              "      <td>1.347579</td>\n",
              "    </tr>\n",
              "    <tr>\n",
              "      <th>min</th>\n",
              "      <td>1.000000</td>\n",
              "    </tr>\n",
              "    <tr>\n",
              "      <th>25%</th>\n",
              "      <td>4.000000</td>\n",
              "    </tr>\n",
              "    <tr>\n",
              "      <th>50%</th>\n",
              "      <td>5.000000</td>\n",
              "    </tr>\n",
              "    <tr>\n",
              "      <th>75%</th>\n",
              "      <td>5.000000</td>\n",
              "    </tr>\n",
              "    <tr>\n",
              "      <th>max</th>\n",
              "      <td>5.000000</td>\n",
              "    </tr>\n",
              "  </tbody>\n",
              "</table>\n",
              "</div>"
            ],
            "text/plain": [
              "       review_score\n",
              "count  99224.000000\n",
              "mean       4.086421\n",
              "std        1.347579\n",
              "min        1.000000\n",
              "25%        4.000000\n",
              "50%        5.000000\n",
              "75%        5.000000\n",
              "max        5.000000"
            ]
          },
          "execution_count": 92,
          "metadata": {},
          "output_type": "execute_result"
        }
      ],
      "source": [
        "#Melihat apakah di table order_reviews_dataset ada data yang di duplikat\n",
        "print(\"Jumlah duplikasi: \", order_reviews_dataset.duplicated().sum())\n",
        "#Melihat apakah di table order_reviews_dataset ada inaccurate Data\n",
        "order_reviews_dataset.describe()"
      ]
    },
    {
      "cell_type": "markdown",
      "metadata": {
        "id": "nwYDacie7meY"
      },
      "source": [
        "Karna rating hanya terdiri dari bilangan bulat dari nilai 1 sampai 5 maka dari quartil 2 sampai quartil 3 bernilai 5."
      ]
    },
    {
      "cell_type": "markdown",
      "metadata": {
        "id": "pmI5uSENvnzJ"
      },
      "source": [
        "### Assessing Data order_dataset\n"
      ]
    },
    {
      "cell_type": "code",
      "execution_count": 93,
      "metadata": {
        "colab": {
          "base_uri": "https://localhost:8080/"
        },
        "id": "JLrAag1eQc-2",
        "outputId": "85f04550-54b0-4fe0-9277-c7df9ddc6932"
      },
      "outputs": [
        {
          "name": "stdout",
          "output_type": "stream",
          "text": [
            "<class 'pandas.core.frame.DataFrame'>\n",
            "RangeIndex: 99441 entries, 0 to 99440\n",
            "Data columns (total 8 columns):\n",
            " #   Column                         Non-Null Count  Dtype \n",
            "---  ------                         --------------  ----- \n",
            " 0   order_id                       99441 non-null  object\n",
            " 1   customer_id                    99441 non-null  object\n",
            " 2   order_status                   99441 non-null  object\n",
            " 3   order_purchase_timestamp       99441 non-null  object\n",
            " 4   order_approved_at              99281 non-null  object\n",
            " 5   order_delivered_carrier_date   97658 non-null  object\n",
            " 6   order_delivered_customer_date  96476 non-null  object\n",
            " 7   order_estimated_delivery_date  99441 non-null  object\n",
            "dtypes: object(8)\n",
            "memory usage: 6.1+ MB\n"
          ]
        },
        {
          "data": {
            "text/plain": [
              "order_id                            0\n",
              "customer_id                         0\n",
              "order_status                        0\n",
              "order_purchase_timestamp            0\n",
              "order_approved_at                 160\n",
              "order_delivered_carrier_date     1783\n",
              "order_delivered_customer_date    2965\n",
              "order_estimated_delivery_date       0\n",
              "dtype: int64"
            ]
          },
          "execution_count": 93,
          "metadata": {},
          "output_type": "execute_result"
        }
      ],
      "source": [
        "#Melihat informasi dari tabel order_dataset\n",
        "order_dataset.info()\n",
        "#Melihat apakah ada missing value\n",
        "order_dataset.isna().sum()"
      ]
    },
    {
      "cell_type": "markdown",
      "metadata": {
        "id": "9l06zWn_8G58"
      },
      "source": [
        "dari sini kita bisa melihat bahwa order_approved_at, order_delivered_carrier_date, order_delivered_customer_date memiliki missing value. Lalu terdapat tipe data yang salah pada: order_approved_at,order_delivered_carrier_date, order_delivered_customer_date, order_estimated_delivery_date"
      ]
    },
    {
      "cell_type": "code",
      "execution_count": 94,
      "metadata": {
        "colab": {
          "base_uri": "https://localhost:8080/"
        },
        "id": "hIAOy3ym7Jn1",
        "outputId": "3861fe16-bc80-464e-8163-f67cb6046b47"
      },
      "outputs": [
        {
          "name": "stdout",
          "output_type": "stream",
          "text": [
            "Jumlah duplikasi:  0\n"
          ]
        }
      ],
      "source": [
        "#Melihat apakah di table order_dataset ada data yang di duplikat\n",
        "print(\"Jumlah duplikasi: \", order_dataset.duplicated().sum())\n"
      ]
    },
    {
      "cell_type": "markdown",
      "metadata": {
        "id": "mLtN4f1pAEtp"
      },
      "source": [
        "Dari sini kita bisa melihat bahwa tidak ada missing value pada order_dataset"
      ]
    },
    {
      "cell_type": "markdown",
      "metadata": {
        "id": "XyqvwB5DvyR-"
      },
      "source": [
        "### Assessing Data product_dataset\n"
      ]
    },
    {
      "cell_type": "code",
      "execution_count": 95,
      "metadata": {
        "colab": {
          "base_uri": "https://localhost:8080/"
        },
        "id": "HDHROdEtCaVO",
        "outputId": "186bd1c9-fa5b-4379-ce42-1ad5de2be6b5"
      },
      "outputs": [
        {
          "name": "stdout",
          "output_type": "stream",
          "text": [
            "<class 'pandas.core.frame.DataFrame'>\n",
            "RangeIndex: 32951 entries, 0 to 32950\n",
            "Data columns (total 9 columns):\n",
            " #   Column                      Non-Null Count  Dtype  \n",
            "---  ------                      --------------  -----  \n",
            " 0   product_id                  32951 non-null  object \n",
            " 1   product_category_name       32341 non-null  object \n",
            " 2   product_name_lenght         32341 non-null  float64\n",
            " 3   product_description_lenght  32341 non-null  float64\n",
            " 4   product_photos_qty          32341 non-null  float64\n",
            " 5   product_weight_g            32949 non-null  float64\n",
            " 6   product_length_cm           32949 non-null  float64\n",
            " 7   product_height_cm           32949 non-null  float64\n",
            " 8   product_width_cm            32949 non-null  float64\n",
            "dtypes: float64(7), object(2)\n",
            "memory usage: 2.3+ MB\n"
          ]
        },
        {
          "data": {
            "text/plain": [
              "product_id                      0\n",
              "product_category_name         610\n",
              "product_name_lenght           610\n",
              "product_description_lenght    610\n",
              "product_photos_qty            610\n",
              "product_weight_g                2\n",
              "product_length_cm               2\n",
              "product_height_cm               2\n",
              "product_width_cm                2\n",
              "dtype: int64"
            ]
          },
          "execution_count": 95,
          "metadata": {},
          "output_type": "execute_result"
        }
      ],
      "source": [
        "#Melihat informasi dari tabel product_dataset\n",
        "product_dataset.info()\n",
        "#Melihat apakah ada missing value\n",
        "product_dataset.isna().sum()"
      ]
    },
    {
      "cell_type": "code",
      "execution_count": 96,
      "metadata": {
        "colab": {
          "base_uri": "https://localhost:8080/",
          "height": 337
        },
        "id": "kpEj8APGCxfG",
        "outputId": "a1086181-4e82-428d-ad66-81b02126d86e"
      },
      "outputs": [
        {
          "name": "stdout",
          "output_type": "stream",
          "text": [
            "Jumlah duplikasi:  0\n"
          ]
        },
        {
          "data": {
            "text/html": [
              "<div>\n",
              "<style scoped>\n",
              "    .dataframe tbody tr th:only-of-type {\n",
              "        vertical-align: middle;\n",
              "    }\n",
              "\n",
              "    .dataframe tbody tr th {\n",
              "        vertical-align: top;\n",
              "    }\n",
              "\n",
              "    .dataframe thead th {\n",
              "        text-align: right;\n",
              "    }\n",
              "</style>\n",
              "<table border=\"1\" class=\"dataframe\">\n",
              "  <thead>\n",
              "    <tr style=\"text-align: right;\">\n",
              "      <th></th>\n",
              "      <th>product_name_lenght</th>\n",
              "      <th>product_description_lenght</th>\n",
              "      <th>product_photos_qty</th>\n",
              "      <th>product_weight_g</th>\n",
              "      <th>product_length_cm</th>\n",
              "      <th>product_height_cm</th>\n",
              "      <th>product_width_cm</th>\n",
              "    </tr>\n",
              "  </thead>\n",
              "  <tbody>\n",
              "    <tr>\n",
              "      <th>count</th>\n",
              "      <td>32341.000000</td>\n",
              "      <td>32341.000000</td>\n",
              "      <td>32341.000000</td>\n",
              "      <td>32949.000000</td>\n",
              "      <td>32949.000000</td>\n",
              "      <td>32949.000000</td>\n",
              "      <td>32949.000000</td>\n",
              "    </tr>\n",
              "    <tr>\n",
              "      <th>mean</th>\n",
              "      <td>48.476949</td>\n",
              "      <td>771.495285</td>\n",
              "      <td>2.188986</td>\n",
              "      <td>2276.472488</td>\n",
              "      <td>30.815078</td>\n",
              "      <td>16.937661</td>\n",
              "      <td>23.196728</td>\n",
              "    </tr>\n",
              "    <tr>\n",
              "      <th>std</th>\n",
              "      <td>10.245741</td>\n",
              "      <td>635.115225</td>\n",
              "      <td>1.736766</td>\n",
              "      <td>4282.038731</td>\n",
              "      <td>16.914458</td>\n",
              "      <td>13.637554</td>\n",
              "      <td>12.079047</td>\n",
              "    </tr>\n",
              "    <tr>\n",
              "      <th>min</th>\n",
              "      <td>5.000000</td>\n",
              "      <td>4.000000</td>\n",
              "      <td>1.000000</td>\n",
              "      <td>0.000000</td>\n",
              "      <td>7.000000</td>\n",
              "      <td>2.000000</td>\n",
              "      <td>6.000000</td>\n",
              "    </tr>\n",
              "    <tr>\n",
              "      <th>25%</th>\n",
              "      <td>42.000000</td>\n",
              "      <td>339.000000</td>\n",
              "      <td>1.000000</td>\n",
              "      <td>300.000000</td>\n",
              "      <td>18.000000</td>\n",
              "      <td>8.000000</td>\n",
              "      <td>15.000000</td>\n",
              "    </tr>\n",
              "    <tr>\n",
              "      <th>50%</th>\n",
              "      <td>51.000000</td>\n",
              "      <td>595.000000</td>\n",
              "      <td>1.000000</td>\n",
              "      <td>700.000000</td>\n",
              "      <td>25.000000</td>\n",
              "      <td>13.000000</td>\n",
              "      <td>20.000000</td>\n",
              "    </tr>\n",
              "    <tr>\n",
              "      <th>75%</th>\n",
              "      <td>57.000000</td>\n",
              "      <td>972.000000</td>\n",
              "      <td>3.000000</td>\n",
              "      <td>1900.000000</td>\n",
              "      <td>38.000000</td>\n",
              "      <td>21.000000</td>\n",
              "      <td>30.000000</td>\n",
              "    </tr>\n",
              "    <tr>\n",
              "      <th>max</th>\n",
              "      <td>76.000000</td>\n",
              "      <td>3992.000000</td>\n",
              "      <td>20.000000</td>\n",
              "      <td>40425.000000</td>\n",
              "      <td>105.000000</td>\n",
              "      <td>105.000000</td>\n",
              "      <td>118.000000</td>\n",
              "    </tr>\n",
              "  </tbody>\n",
              "</table>\n",
              "</div>"
            ],
            "text/plain": [
              "       product_name_lenght  product_description_lenght  product_photos_qty  \\\n",
              "count         32341.000000                32341.000000        32341.000000   \n",
              "mean             48.476949                  771.495285            2.188986   \n",
              "std              10.245741                  635.115225            1.736766   \n",
              "min               5.000000                    4.000000            1.000000   \n",
              "25%              42.000000                  339.000000            1.000000   \n",
              "50%              51.000000                  595.000000            1.000000   \n",
              "75%              57.000000                  972.000000            3.000000   \n",
              "max              76.000000                 3992.000000           20.000000   \n",
              "\n",
              "       product_weight_g  product_length_cm  product_height_cm  \\\n",
              "count      32949.000000       32949.000000       32949.000000   \n",
              "mean        2276.472488          30.815078          16.937661   \n",
              "std         4282.038731          16.914458          13.637554   \n",
              "min            0.000000           7.000000           2.000000   \n",
              "25%          300.000000          18.000000           8.000000   \n",
              "50%          700.000000          25.000000          13.000000   \n",
              "75%         1900.000000          38.000000          21.000000   \n",
              "max        40425.000000         105.000000         105.000000   \n",
              "\n",
              "       product_width_cm  \n",
              "count      32949.000000  \n",
              "mean          23.196728  \n",
              "std           12.079047  \n",
              "min            6.000000  \n",
              "25%           15.000000  \n",
              "50%           20.000000  \n",
              "75%           30.000000  \n",
              "max          118.000000  "
            ]
          },
          "execution_count": 96,
          "metadata": {},
          "output_type": "execute_result"
        }
      ],
      "source": [
        "#Melihat apakah di table product_dataset ada data yang di duplikat\n",
        "print(\"Jumlah duplikasi: \", product_dataset.duplicated().sum())\n",
        "#Melihat apakah di table product_dataset ada inaccurate Data\n",
        "product_dataset.describe()"
      ]
    },
    {
      "cell_type": "markdown",
      "metadata": {
        "id": "HyKHzl_eDKQ2"
      },
      "source": [
        "Dari hasil ini kita telah mengetahui bahwa tabel Product_dataset terdapat missing value pada kolom product_category_name, product_name_lenght,product_description_lenght"
      ]
    },
    {
      "cell_type": "markdown",
      "metadata": {
        "id": "c9DhDnAzv4-D"
      },
      "source": [
        "### Assessing Data seller_dataset\n"
      ]
    },
    {
      "cell_type": "code",
      "execution_count": 97,
      "metadata": {
        "colab": {
          "base_uri": "https://localhost:8080/"
        },
        "id": "llj8Y2O5E_aQ",
        "outputId": "2115509f-0f52-480d-aea3-d1ec7a890c70"
      },
      "outputs": [
        {
          "name": "stdout",
          "output_type": "stream",
          "text": [
            "<class 'pandas.core.frame.DataFrame'>\n",
            "RangeIndex: 3095 entries, 0 to 3094\n",
            "Data columns (total 4 columns):\n",
            " #   Column                  Non-Null Count  Dtype \n",
            "---  ------                  --------------  ----- \n",
            " 0   seller_id               3095 non-null   object\n",
            " 1   seller_zip_code_prefix  3095 non-null   int64 \n",
            " 2   seller_city             3095 non-null   object\n",
            " 3   seller_state            3095 non-null   object\n",
            "dtypes: int64(1), object(3)\n",
            "memory usage: 96.8+ KB\n"
          ]
        },
        {
          "data": {
            "text/plain": [
              "seller_id                 0\n",
              "seller_zip_code_prefix    0\n",
              "seller_city               0\n",
              "seller_state              0\n",
              "dtype: int64"
            ]
          },
          "execution_count": 97,
          "metadata": {},
          "output_type": "execute_result"
        }
      ],
      "source": [
        "#Melihat informasi dari tabel seller_dataset\n",
        "seller_dataset.info()\n",
        "#Melihat apakah ada missing value\n",
        "seller_dataset.isna().sum()"
      ]
    },
    {
      "cell_type": "code",
      "execution_count": 98,
      "metadata": {
        "colab": {
          "base_uri": "https://localhost:8080/"
        },
        "id": "Q0Py_cZWFPtF",
        "outputId": "aac90126-8858-46b7-eb3d-111c78b8c286"
      },
      "outputs": [
        {
          "name": "stdout",
          "output_type": "stream",
          "text": [
            "Jumlah duplikasi:  0\n"
          ]
        }
      ],
      "source": [
        "#Melihat apakah di table seller_dataset ada data yang di duplikat\n",
        "print(\"Jumlah duplikasi: \", seller_dataset.duplicated().sum())"
      ]
    },
    {
      "cell_type": "markdown",
      "metadata": {
        "id": "CMG3yQOfGNtJ"
      },
      "source": [
        "Dari sini kita tahu bahwa bahwa seller_dataset tidak memiliki missing value, inaccurate data, dan data duplikat"
      ]
    },
    {
      "cell_type": "markdown",
      "metadata": {
        "id": "pW68C9uUv71F"
      },
      "source": [
        "### Assessing Data product_category_name_translation\n"
      ]
    },
    {
      "cell_type": "code",
      "execution_count": 99,
      "metadata": {
        "colab": {
          "base_uri": "https://localhost:8080/"
        },
        "id": "bps3xgLnu6Bn",
        "outputId": "29213853-280a-4842-edde-34503ef21db6"
      },
      "outputs": [
        {
          "name": "stdout",
          "output_type": "stream",
          "text": [
            "<class 'pandas.core.frame.DataFrame'>\n",
            "RangeIndex: 71 entries, 0 to 70\n",
            "Data columns (total 2 columns):\n",
            " #   Column                         Non-Null Count  Dtype \n",
            "---  ------                         --------------  ----- \n",
            " 0   product_category_name          71 non-null     object\n",
            " 1   product_category_name_english  71 non-null     object\n",
            "dtypes: object(2)\n",
            "memory usage: 1.2+ KB\n"
          ]
        },
        {
          "data": {
            "text/plain": [
              "product_category_name            0\n",
              "product_category_name_english    0\n",
              "dtype: int64"
            ]
          },
          "execution_count": 99,
          "metadata": {},
          "output_type": "execute_result"
        }
      ],
      "source": [
        "#Melihat informasi dari tabel product_category_name_translation_dataset\n",
        "product_category_name_translation.info()\n",
        "#Melihat apakah ada missing value\n",
        "product_category_name_translation.isna().sum()"
      ]
    },
    {
      "cell_type": "code",
      "execution_count": 100,
      "metadata": {
        "colab": {
          "base_uri": "https://localhost:8080/"
        },
        "id": "VtaOp9-PvGke",
        "outputId": "cf4e65f1-4b65-4f80-b3a7-f2d87ab7ef7d"
      },
      "outputs": [
        {
          "name": "stdout",
          "output_type": "stream",
          "text": [
            "Jumlah duplikasi:  0\n"
          ]
        }
      ],
      "source": [
        "#Melihat apakah di table seller_dataset ada data yang di duplikat\n",
        "print(\"Jumlah duplikasi: \", product_category_name_translation.duplicated().sum())"
      ]
    },
    {
      "cell_type": "markdown",
      "metadata": {
        "id": "gJ2ICHYbxlO1"
      },
      "source": [
        "##Cleaning Data"
      ]
    },
    {
      "cell_type": "markdown",
      "metadata": {
        "id": "4a0nqqCavOpW"
      },
      "source": [
        "product_category_name_translation_dataset tidak memiliki missing value, duplikat data, dan inaccurate data"
      ]
    },
    {
      "cell_type": "markdown",
      "metadata": {
        "id": "EXLuQxrZTw3O"
      },
      "source": [
        "![Screenshot 2023-10-19 002206.png](data:image/png;base64,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)"
      ]
    },
    {
      "cell_type": "code",
      "execution_count": null,
      "metadata": {
        "id": "P_3_wUSU0pz5"
      },
      "outputs": [],
      "source": []
    },
    {
      "cell_type": "markdown",
      "metadata": {
        "id": "Uz5dgcJm9HW5"
      },
      "source": [
        "### Cleaning Data order_items_dataset"
      ]
    },
    {
      "cell_type": "markdown",
      "metadata": {
        "id": "CsaiNMA6x3tA"
      },
      "source": [
        "#### Tipe Data"
      ]
    },
    {
      "cell_type": "code",
      "execution_count": 101,
      "metadata": {
        "id": "zBwYGhRFQaG_"
      },
      "outputs": [],
      "source": [
        "#Melakukan Cleaning terhadap order_items_dataset\n",
        "datetime_columns = [\"shipping_limit_date\"]\n",
        "\n",
        "for column in datetime_columns:\n",
        "  order_items_dataset[column] = pd.to_datetime(order_items_dataset[column])"
      ]
    },
    {
      "cell_type": "code",
      "execution_count": 102,
      "metadata": {
        "colab": {
          "base_uri": "https://localhost:8080/"
        },
        "id": "ru-5Sq4XULC8",
        "outputId": "25cb4516-d587-4346-995a-ebda105d1881"
      },
      "outputs": [
        {
          "name": "stdout",
          "output_type": "stream",
          "text": [
            "<class 'pandas.core.frame.DataFrame'>\n",
            "RangeIndex: 112650 entries, 0 to 112649\n",
            "Data columns (total 7 columns):\n",
            " #   Column               Non-Null Count   Dtype         \n",
            "---  ------               --------------   -----         \n",
            " 0   order_id             112650 non-null  object        \n",
            " 1   order_item_id        112650 non-null  int64         \n",
            " 2   product_id           112650 non-null  object        \n",
            " 3   seller_id            112650 non-null  object        \n",
            " 4   shipping_limit_date  112650 non-null  datetime64[ns]\n",
            " 5   price                112650 non-null  float64       \n",
            " 6   freight_value        112650 non-null  float64       \n",
            "dtypes: datetime64[ns](1), float64(2), int64(1), object(3)\n",
            "memory usage: 6.0+ MB\n"
          ]
        }
      ],
      "source": [
        "#Memastikan order_items_dataset sudah benar\n",
        "order_items_dataset.info()"
      ]
    },
    {
      "cell_type": "markdown",
      "metadata": {
        "id": "OcNE9PnjUXrY"
      },
      "source": [
        "Semua datatype sudah benar"
      ]
    },
    {
      "cell_type": "markdown",
      "metadata": {
        "id": "t47Tp4To0I4C"
      },
      "source": [
        "### Cleaning Data order_payments_dataset"
      ]
    },
    {
      "cell_type": "markdown",
      "metadata": {
        "id": "pDxh0d5-yWg-"
      },
      "source": [
        "####Inaccurate Value\n"
      ]
    },
    {
      "cell_type": "markdown",
      "metadata": {
        "id": "r0rRhGuPA_sJ"
      },
      "source": [
        "Karena payment_installments tidak boleh sama dengan 0 dan payment_value juga tidak boleh sama dengan 0 maka kita akan melakukan data cleaning pada mereka."
      ]
    },
    {
      "cell_type": "code",
      "execution_count": 103,
      "metadata": {
        "colab": {
          "base_uri": "https://localhost:8080/",
          "height": 112
        },
        "id": "57Vp3SXx0Hc4",
        "outputId": "7ab8061e-9aca-4eb4-8d60-4d876f0a83f6"
      },
      "outputs": [
        {
          "data": {
            "text/html": [
              "<div>\n",
              "<style scoped>\n",
              "    .dataframe tbody tr th:only-of-type {\n",
              "        vertical-align: middle;\n",
              "    }\n",
              "\n",
              "    .dataframe tbody tr th {\n",
              "        vertical-align: top;\n",
              "    }\n",
              "\n",
              "    .dataframe thead th {\n",
              "        text-align: right;\n",
              "    }\n",
              "</style>\n",
              "<table border=\"1\" class=\"dataframe\">\n",
              "  <thead>\n",
              "    <tr style=\"text-align: right;\">\n",
              "      <th></th>\n",
              "      <th>order_id</th>\n",
              "      <th>payment_sequential</th>\n",
              "      <th>payment_type</th>\n",
              "      <th>payment_installments</th>\n",
              "      <th>payment_value</th>\n",
              "    </tr>\n",
              "  </thead>\n",
              "  <tbody>\n",
              "    <tr>\n",
              "      <th>46982</th>\n",
              "      <td>744bade1fcf9ff3f31d860ace076d422</td>\n",
              "      <td>2</td>\n",
              "      <td>credit_card</td>\n",
              "      <td>0</td>\n",
              "      <td>58.69</td>\n",
              "    </tr>\n",
              "    <tr>\n",
              "      <th>79014</th>\n",
              "      <td>1a57108394169c0b47d8f876acc9ba2d</td>\n",
              "      <td>2</td>\n",
              "      <td>credit_card</td>\n",
              "      <td>0</td>\n",
              "      <td>129.94</td>\n",
              "    </tr>\n",
              "  </tbody>\n",
              "</table>\n",
              "</div>"
            ],
            "text/plain": [
              "                               order_id  payment_sequential payment_type  \\\n",
              "46982  744bade1fcf9ff3f31d860ace076d422                   2  credit_card   \n",
              "79014  1a57108394169c0b47d8f876acc9ba2d                   2  credit_card   \n",
              "\n",
              "       payment_installments  payment_value  \n",
              "46982                     0          58.69  \n",
              "79014                     0         129.94  "
            ]
          },
          "execution_count": 103,
          "metadata": {},
          "output_type": "execute_result"
        }
      ],
      "source": [
        "#Melihat data mana saja yang memiliki payment_installments 0\n",
        "order_payments_dataset[order_payments_dataset.payment_installments == order_payments_dataset.payment_installments.min()]"
      ]
    },
    {
      "cell_type": "code",
      "execution_count": 104,
      "metadata": {
        "id": "YBgcAZzsElDX"
      },
      "outputs": [],
      "source": [
        "#Karena cuman 2 data saja, maka kita akan melakukan dropping saja\n",
        "# Menghapus baris dengan payment_installments yang sama dengan 0\n",
        "order_payments_dataset.drop(order_payments_dataset[order_payments_dataset['payment_installments'] == 0].index, inplace=True)\n"
      ]
    },
    {
      "cell_type": "code",
      "execution_count": 105,
      "metadata": {
        "colab": {
          "base_uri": "https://localhost:8080/",
          "height": 423
        },
        "id": "s8oPNOniE6u9",
        "outputId": "417c3587-35a0-4220-e4c3-5c3503acf2f9"
      },
      "outputs": [
        {
          "data": {
            "text/html": [
              "<div>\n",
              "<style scoped>\n",
              "    .dataframe tbody tr th:only-of-type {\n",
              "        vertical-align: middle;\n",
              "    }\n",
              "\n",
              "    .dataframe tbody tr th {\n",
              "        vertical-align: top;\n",
              "    }\n",
              "\n",
              "    .dataframe thead th {\n",
              "        text-align: right;\n",
              "    }\n",
              "</style>\n",
              "<table border=\"1\" class=\"dataframe\">\n",
              "  <thead>\n",
              "    <tr style=\"text-align: right;\">\n",
              "      <th></th>\n",
              "      <th>order_id</th>\n",
              "      <th>payment_sequential</th>\n",
              "      <th>payment_type</th>\n",
              "      <th>payment_installments</th>\n",
              "      <th>payment_value</th>\n",
              "    </tr>\n",
              "  </thead>\n",
              "  <tbody>\n",
              "    <tr>\n",
              "      <th>1</th>\n",
              "      <td>a9810da82917af2d9aefd1278f1dcfa0</td>\n",
              "      <td>1</td>\n",
              "      <td>credit_card</td>\n",
              "      <td>1</td>\n",
              "      <td>24.39</td>\n",
              "    </tr>\n",
              "    <tr>\n",
              "      <th>2</th>\n",
              "      <td>25e8ea4e93396b6fa0d3dd708e76c1bd</td>\n",
              "      <td>1</td>\n",
              "      <td>credit_card</td>\n",
              "      <td>1</td>\n",
              "      <td>65.71</td>\n",
              "    </tr>\n",
              "    <tr>\n",
              "      <th>6</th>\n",
              "      <td>771ee386b001f06208a7419e4fc1bbd7</td>\n",
              "      <td>1</td>\n",
              "      <td>credit_card</td>\n",
              "      <td>1</td>\n",
              "      <td>81.16</td>\n",
              "    </tr>\n",
              "    <tr>\n",
              "      <th>9</th>\n",
              "      <td>0573b5e23cbd798006520e1d5b4c6714</td>\n",
              "      <td>1</td>\n",
              "      <td>boleto</td>\n",
              "      <td>1</td>\n",
              "      <td>51.95</td>\n",
              "    </tr>\n",
              "    <tr>\n",
              "      <th>11</th>\n",
              "      <td>2480f727e869fdeb397244a21b721b67</td>\n",
              "      <td>1</td>\n",
              "      <td>credit_card</td>\n",
              "      <td>1</td>\n",
              "      <td>141.90</td>\n",
              "    </tr>\n",
              "    <tr>\n",
              "      <th>...</th>\n",
              "      <td>...</td>\n",
              "      <td>...</td>\n",
              "      <td>...</td>\n",
              "      <td>...</td>\n",
              "      <td>...</td>\n",
              "    </tr>\n",
              "    <tr>\n",
              "      <th>103874</th>\n",
              "      <td>d41f1036712e18ee525939d08b7a1c98</td>\n",
              "      <td>1</td>\n",
              "      <td>credit_card</td>\n",
              "      <td>1</td>\n",
              "      <td>3.57</td>\n",
              "    </tr>\n",
              "    <tr>\n",
              "      <th>103877</th>\n",
              "      <td>3531718b24dfd5022fb0d101e10e33b9</td>\n",
              "      <td>1</td>\n",
              "      <td>credit_card</td>\n",
              "      <td>1</td>\n",
              "      <td>194.11</td>\n",
              "    </tr>\n",
              "    <tr>\n",
              "      <th>103881</th>\n",
              "      <td>0406037ad97740d563a178ecc7a2075c</td>\n",
              "      <td>1</td>\n",
              "      <td>boleto</td>\n",
              "      <td>1</td>\n",
              "      <td>363.31</td>\n",
              "    </tr>\n",
              "    <tr>\n",
              "      <th>103883</th>\n",
              "      <td>32609bbb3dd69b3c066a6860554a77bf</td>\n",
              "      <td>1</td>\n",
              "      <td>credit_card</td>\n",
              "      <td>1</td>\n",
              "      <td>47.77</td>\n",
              "    </tr>\n",
              "    <tr>\n",
              "      <th>103885</th>\n",
              "      <td>28bbae6599b09d39ca406b747b6632b1</td>\n",
              "      <td>1</td>\n",
              "      <td>boleto</td>\n",
              "      <td>1</td>\n",
              "      <td>191.58</td>\n",
              "    </tr>\n",
              "  </tbody>\n",
              "</table>\n",
              "<p>52546 rows × 5 columns</p>\n",
              "</div>"
            ],
            "text/plain": [
              "                                order_id  payment_sequential payment_type  \\\n",
              "1       a9810da82917af2d9aefd1278f1dcfa0                   1  credit_card   \n",
              "2       25e8ea4e93396b6fa0d3dd708e76c1bd                   1  credit_card   \n",
              "6       771ee386b001f06208a7419e4fc1bbd7                   1  credit_card   \n",
              "9       0573b5e23cbd798006520e1d5b4c6714                   1       boleto   \n",
              "11      2480f727e869fdeb397244a21b721b67                   1  credit_card   \n",
              "...                                  ...                 ...          ...   \n",
              "103874  d41f1036712e18ee525939d08b7a1c98                   1  credit_card   \n",
              "103877  3531718b24dfd5022fb0d101e10e33b9                   1  credit_card   \n",
              "103881  0406037ad97740d563a178ecc7a2075c                   1       boleto   \n",
              "103883  32609bbb3dd69b3c066a6860554a77bf                   1  credit_card   \n",
              "103885  28bbae6599b09d39ca406b747b6632b1                   1       boleto   \n",
              "\n",
              "        payment_installments  payment_value  \n",
              "1                          1          24.39  \n",
              "2                          1          65.71  \n",
              "6                          1          81.16  \n",
              "9                          1          51.95  \n",
              "11                         1         141.90  \n",
              "...                      ...            ...  \n",
              "103874                     1           3.57  \n",
              "103877                     1         194.11  \n",
              "103881                     1         363.31  \n",
              "103883                     1          47.77  \n",
              "103885                     1         191.58  \n",
              "\n",
              "[52546 rows x 5 columns]"
            ]
          },
          "execution_count": 105,
          "metadata": {},
          "output_type": "execute_result"
        }
      ],
      "source": [
        "#Melihat data apakah masih ada yang memiliki payment_installments 0\n",
        "order_payments_dataset[order_payments_dataset.payment_installments == order_payments_dataset.payment_installments.min()]"
      ]
    },
    {
      "cell_type": "code",
      "execution_count": 106,
      "metadata": {
        "colab": {
          "base_uri": "https://localhost:8080/",
          "height": 331
        },
        "id": "xDUumsP19sSb",
        "outputId": "4e48dceb-a0c2-453c-aa81-c7c2368268af"
      },
      "outputs": [
        {
          "data": {
            "text/html": [
              "<div>\n",
              "<style scoped>\n",
              "    .dataframe tbody tr th:only-of-type {\n",
              "        vertical-align: middle;\n",
              "    }\n",
              "\n",
              "    .dataframe tbody tr th {\n",
              "        vertical-align: top;\n",
              "    }\n",
              "\n",
              "    .dataframe thead th {\n",
              "        text-align: right;\n",
              "    }\n",
              "</style>\n",
              "<table border=\"1\" class=\"dataframe\">\n",
              "  <thead>\n",
              "    <tr style=\"text-align: right;\">\n",
              "      <th></th>\n",
              "      <th>order_id</th>\n",
              "      <th>payment_sequential</th>\n",
              "      <th>payment_type</th>\n",
              "      <th>payment_installments</th>\n",
              "      <th>payment_value</th>\n",
              "    </tr>\n",
              "  </thead>\n",
              "  <tbody>\n",
              "    <tr>\n",
              "      <th>19922</th>\n",
              "      <td>8bcbe01d44d147f901cd3192671144db</td>\n",
              "      <td>4</td>\n",
              "      <td>voucher</td>\n",
              "      <td>1</td>\n",
              "      <td>0.0</td>\n",
              "    </tr>\n",
              "    <tr>\n",
              "      <th>36822</th>\n",
              "      <td>fa65dad1b0e818e3ccc5cb0e39231352</td>\n",
              "      <td>14</td>\n",
              "      <td>voucher</td>\n",
              "      <td>1</td>\n",
              "      <td>0.0</td>\n",
              "    </tr>\n",
              "    <tr>\n",
              "      <th>43744</th>\n",
              "      <td>6ccb433e00daae1283ccc956189c82ae</td>\n",
              "      <td>4</td>\n",
              "      <td>voucher</td>\n",
              "      <td>1</td>\n",
              "      <td>0.0</td>\n",
              "    </tr>\n",
              "    <tr>\n",
              "      <th>51280</th>\n",
              "      <td>4637ca194b6387e2d538dc89b124b0ee</td>\n",
              "      <td>1</td>\n",
              "      <td>not_defined</td>\n",
              "      <td>1</td>\n",
              "      <td>0.0</td>\n",
              "    </tr>\n",
              "    <tr>\n",
              "      <th>57411</th>\n",
              "      <td>00b1cb0320190ca0daa2c88b35206009</td>\n",
              "      <td>1</td>\n",
              "      <td>not_defined</td>\n",
              "      <td>1</td>\n",
              "      <td>0.0</td>\n",
              "    </tr>\n",
              "    <tr>\n",
              "      <th>62674</th>\n",
              "      <td>45ed6e85398a87c253db47c2d9f48216</td>\n",
              "      <td>3</td>\n",
              "      <td>voucher</td>\n",
              "      <td>1</td>\n",
              "      <td>0.0</td>\n",
              "    </tr>\n",
              "    <tr>\n",
              "      <th>77885</th>\n",
              "      <td>fa65dad1b0e818e3ccc5cb0e39231352</td>\n",
              "      <td>13</td>\n",
              "      <td>voucher</td>\n",
              "      <td>1</td>\n",
              "      <td>0.0</td>\n",
              "    </tr>\n",
              "    <tr>\n",
              "      <th>94427</th>\n",
              "      <td>c8c528189310eaa44a745b8d9d26908b</td>\n",
              "      <td>1</td>\n",
              "      <td>not_defined</td>\n",
              "      <td>1</td>\n",
              "      <td>0.0</td>\n",
              "    </tr>\n",
              "    <tr>\n",
              "      <th>100766</th>\n",
              "      <td>b23878b3e8eb4d25a158f57d96331b18</td>\n",
              "      <td>4</td>\n",
              "      <td>voucher</td>\n",
              "      <td>1</td>\n",
              "      <td>0.0</td>\n",
              "    </tr>\n",
              "  </tbody>\n",
              "</table>\n",
              "</div>"
            ],
            "text/plain": [
              "                                order_id  payment_sequential payment_type  \\\n",
              "19922   8bcbe01d44d147f901cd3192671144db                   4      voucher   \n",
              "36822   fa65dad1b0e818e3ccc5cb0e39231352                  14      voucher   \n",
              "43744   6ccb433e00daae1283ccc956189c82ae                   4      voucher   \n",
              "51280   4637ca194b6387e2d538dc89b124b0ee                   1  not_defined   \n",
              "57411   00b1cb0320190ca0daa2c88b35206009                   1  not_defined   \n",
              "62674   45ed6e85398a87c253db47c2d9f48216                   3      voucher   \n",
              "77885   fa65dad1b0e818e3ccc5cb0e39231352                  13      voucher   \n",
              "94427   c8c528189310eaa44a745b8d9d26908b                   1  not_defined   \n",
              "100766  b23878b3e8eb4d25a158f57d96331b18                   4      voucher   \n",
              "\n",
              "        payment_installments  payment_value  \n",
              "19922                      1            0.0  \n",
              "36822                      1            0.0  \n",
              "43744                      1            0.0  \n",
              "51280                      1            0.0  \n",
              "57411                      1            0.0  \n",
              "62674                      1            0.0  \n",
              "77885                      1            0.0  \n",
              "94427                      1            0.0  \n",
              "100766                     1            0.0  "
            ]
          },
          "execution_count": 106,
          "metadata": {},
          "output_type": "execute_result"
        }
      ],
      "source": [
        "#Melihat data mana saja yang memiliki payment_value yang 0\n",
        "order_payments_dataset[order_payments_dataset.payment_value == order_payments_dataset.payment_value.min()]"
      ]
    },
    {
      "cell_type": "markdown",
      "metadata": {
        "id": "q9TjvXvy_DRv"
      },
      "source": [
        "Karna Payment value yang menggunakan voucher itu berkemungkinan untuk payment_valuenya 0.0, sedangkan yang not_defined itu kita tidak tahu apakah bisa 0.0 atau tidak, maka kita akan menghapus data yang memiliki payment_type *not_defined* dan payment_valuenya=0"
      ]
    },
    {
      "cell_type": "code",
      "execution_count": 107,
      "metadata": {
        "id": "mlH81ORK1XDa"
      },
      "outputs": [],
      "source": [
        "#Saya akan menghapus data dengan payment_type not_defined dan payment valuenya 0\n",
        "order_payments_dataset.drop(order_payments_dataset[(order_payments_dataset['payment_value'] == 0) & (order_payments_dataset['payment_type'] == 'not_defined')].index, inplace=True)\n"
      ]
    },
    {
      "cell_type": "code",
      "execution_count": 108,
      "metadata": {
        "colab": {
          "base_uri": "https://localhost:8080/",
          "height": 237
        },
        "id": "es0zjvshWBUl",
        "outputId": "62caea34-9837-4ccb-bab5-682358ccc2d3"
      },
      "outputs": [
        {
          "data": {
            "text/html": [
              "<div>\n",
              "<style scoped>\n",
              "    .dataframe tbody tr th:only-of-type {\n",
              "        vertical-align: middle;\n",
              "    }\n",
              "\n",
              "    .dataframe tbody tr th {\n",
              "        vertical-align: top;\n",
              "    }\n",
              "\n",
              "    .dataframe thead th {\n",
              "        text-align: right;\n",
              "    }\n",
              "</style>\n",
              "<table border=\"1\" class=\"dataframe\">\n",
              "  <thead>\n",
              "    <tr style=\"text-align: right;\">\n",
              "      <th></th>\n",
              "      <th>order_id</th>\n",
              "      <th>payment_sequential</th>\n",
              "      <th>payment_type</th>\n",
              "      <th>payment_installments</th>\n",
              "      <th>payment_value</th>\n",
              "    </tr>\n",
              "  </thead>\n",
              "  <tbody>\n",
              "    <tr>\n",
              "      <th>19922</th>\n",
              "      <td>8bcbe01d44d147f901cd3192671144db</td>\n",
              "      <td>4</td>\n",
              "      <td>voucher</td>\n",
              "      <td>1</td>\n",
              "      <td>0.0</td>\n",
              "    </tr>\n",
              "    <tr>\n",
              "      <th>36822</th>\n",
              "      <td>fa65dad1b0e818e3ccc5cb0e39231352</td>\n",
              "      <td>14</td>\n",
              "      <td>voucher</td>\n",
              "      <td>1</td>\n",
              "      <td>0.0</td>\n",
              "    </tr>\n",
              "    <tr>\n",
              "      <th>43744</th>\n",
              "      <td>6ccb433e00daae1283ccc956189c82ae</td>\n",
              "      <td>4</td>\n",
              "      <td>voucher</td>\n",
              "      <td>1</td>\n",
              "      <td>0.0</td>\n",
              "    </tr>\n",
              "    <tr>\n",
              "      <th>62674</th>\n",
              "      <td>45ed6e85398a87c253db47c2d9f48216</td>\n",
              "      <td>3</td>\n",
              "      <td>voucher</td>\n",
              "      <td>1</td>\n",
              "      <td>0.0</td>\n",
              "    </tr>\n",
              "    <tr>\n",
              "      <th>77885</th>\n",
              "      <td>fa65dad1b0e818e3ccc5cb0e39231352</td>\n",
              "      <td>13</td>\n",
              "      <td>voucher</td>\n",
              "      <td>1</td>\n",
              "      <td>0.0</td>\n",
              "    </tr>\n",
              "    <tr>\n",
              "      <th>100766</th>\n",
              "      <td>b23878b3e8eb4d25a158f57d96331b18</td>\n",
              "      <td>4</td>\n",
              "      <td>voucher</td>\n",
              "      <td>1</td>\n",
              "      <td>0.0</td>\n",
              "    </tr>\n",
              "  </tbody>\n",
              "</table>\n",
              "</div>"
            ],
            "text/plain": [
              "                                order_id  payment_sequential payment_type  \\\n",
              "19922   8bcbe01d44d147f901cd3192671144db                   4      voucher   \n",
              "36822   fa65dad1b0e818e3ccc5cb0e39231352                  14      voucher   \n",
              "43744   6ccb433e00daae1283ccc956189c82ae                   4      voucher   \n",
              "62674   45ed6e85398a87c253db47c2d9f48216                   3      voucher   \n",
              "77885   fa65dad1b0e818e3ccc5cb0e39231352                  13      voucher   \n",
              "100766  b23878b3e8eb4d25a158f57d96331b18                   4      voucher   \n",
              "\n",
              "        payment_installments  payment_value  \n",
              "19922                      1            0.0  \n",
              "36822                      1            0.0  \n",
              "43744                      1            0.0  \n",
              "62674                      1            0.0  \n",
              "77885                      1            0.0  \n",
              "100766                     1            0.0  "
            ]
          },
          "execution_count": 108,
          "metadata": {},
          "output_type": "execute_result"
        }
      ],
      "source": [
        "#Melihat data mana saja yang memiliki payment_value yang 0\n",
        "order_payments_dataset[order_payments_dataset.payment_value == order_payments_dataset.payment_value.min()]"
      ]
    },
    {
      "cell_type": "markdown",
      "metadata": {
        "id": "DFkhcIWOwTF3"
      },
      "source": [
        "### Cleaning Data order_reviews_datase\n"
      ]
    },
    {
      "cell_type": "markdown",
      "metadata": {
        "id": "BALgGFdDw-Yq"
      },
      "source": [
        "#### Tipe data"
      ]
    },
    {
      "cell_type": "code",
      "execution_count": 109,
      "metadata": {
        "id": "Hdaih8I8Ucjm"
      },
      "outputs": [],
      "source": [
        "#Memperbaiki tipe data order_reviews_dataset\n",
        "datetime_columns = [\"review_creation_date\", \"review_answer_timestamp\"]\n",
        "\n",
        "for column in datetime_columns:\n",
        "  order_reviews_dataset[column] = pd.to_datetime(order_reviews_dataset[column])"
      ]
    },
    {
      "cell_type": "code",
      "execution_count": 110,
      "metadata": {
        "colab": {
          "base_uri": "https://localhost:8080/"
        },
        "id": "nhnszf-7pScb",
        "outputId": "48720d3a-0b14-4f2c-dff2-2b22746abbc6"
      },
      "outputs": [
        {
          "name": "stdout",
          "output_type": "stream",
          "text": [
            "<class 'pandas.core.frame.DataFrame'>\n",
            "RangeIndex: 99224 entries, 0 to 99223\n",
            "Data columns (total 7 columns):\n",
            " #   Column                   Non-Null Count  Dtype         \n",
            "---  ------                   --------------  -----         \n",
            " 0   review_id                99224 non-null  object        \n",
            " 1   order_id                 99224 non-null  object        \n",
            " 2   review_score             99224 non-null  int64         \n",
            " 3   review_comment_title     11568 non-null  object        \n",
            " 4   review_comment_message   40977 non-null  object        \n",
            " 5   review_creation_date     99224 non-null  datetime64[ns]\n",
            " 6   review_answer_timestamp  99224 non-null  datetime64[ns]\n",
            "dtypes: datetime64[ns](2), int64(1), object(4)\n",
            "memory usage: 5.3+ MB\n"
          ]
        }
      ],
      "source": [
        "#Memastikan order_reviews_dataset sudah benar\n",
        "order_reviews_dataset.info()"
      ]
    },
    {
      "cell_type": "markdown",
      "metadata": {
        "id": "wWYlenllpR2T"
      },
      "source": [
        "Semua datatype sudah benar"
      ]
    },
    {
      "cell_type": "markdown",
      "metadata": {
        "id": "fx31D-ZwwgtV"
      },
      "source": [
        "####Missing value"
      ]
    },
    {
      "cell_type": "code",
      "execution_count": 111,
      "metadata": {
        "colab": {
          "base_uri": "https://localhost:8080/",
          "height": 443
        },
        "id": "4DYu56NJp0P1",
        "outputId": "938254d9-5b65-4e39-da7e-4a71bccdce55"
      },
      "outputs": [
        {
          "data": {
            "text/html": [
              "<div>\n",
              "<style scoped>\n",
              "    .dataframe tbody tr th:only-of-type {\n",
              "        vertical-align: middle;\n",
              "    }\n",
              "\n",
              "    .dataframe tbody tr th {\n",
              "        vertical-align: top;\n",
              "    }\n",
              "\n",
              "    .dataframe thead th {\n",
              "        text-align: right;\n",
              "    }\n",
              "</style>\n",
              "<table border=\"1\" class=\"dataframe\">\n",
              "  <thead>\n",
              "    <tr style=\"text-align: right;\">\n",
              "      <th></th>\n",
              "      <th>review_id</th>\n",
              "      <th>order_id</th>\n",
              "      <th>review_score</th>\n",
              "      <th>review_comment_title</th>\n",
              "      <th>review_comment_message</th>\n",
              "      <th>review_creation_date</th>\n",
              "      <th>review_answer_timestamp</th>\n",
              "    </tr>\n",
              "  </thead>\n",
              "  <tbody>\n",
              "    <tr>\n",
              "      <th>0</th>\n",
              "      <td>7bc2406110b926393aa56f80a40eba40</td>\n",
              "      <td>73fc7af87114b39712e6da79b0a377eb</td>\n",
              "      <td>4</td>\n",
              "      <td>NaN</td>\n",
              "      <td>NaN</td>\n",
              "      <td>2018-01-18</td>\n",
              "      <td>2018-01-18 21:46:59</td>\n",
              "    </tr>\n",
              "    <tr>\n",
              "      <th>1</th>\n",
              "      <td>80e641a11e56f04c1ad469d5645fdfde</td>\n",
              "      <td>a548910a1c6147796b98fdf73dbeba33</td>\n",
              "      <td>5</td>\n",
              "      <td>NaN</td>\n",
              "      <td>NaN</td>\n",
              "      <td>2018-03-10</td>\n",
              "      <td>2018-03-11 03:05:13</td>\n",
              "    </tr>\n",
              "    <tr>\n",
              "      <th>2</th>\n",
              "      <td>228ce5500dc1d8e020d8d1322874b6f0</td>\n",
              "      <td>f9e4b658b201a9f2ecdecbb34bed034b</td>\n",
              "      <td>5</td>\n",
              "      <td>NaN</td>\n",
              "      <td>NaN</td>\n",
              "      <td>2018-02-17</td>\n",
              "      <td>2018-02-18 14:36:24</td>\n",
              "    </tr>\n",
              "    <tr>\n",
              "      <th>5</th>\n",
              "      <td>15197aa66ff4d0650b5434f1b46cda19</td>\n",
              "      <td>b18dcdf73be66366873cd26c5724d1dc</td>\n",
              "      <td>1</td>\n",
              "      <td>NaN</td>\n",
              "      <td>NaN</td>\n",
              "      <td>2018-04-13</td>\n",
              "      <td>2018-04-16 00:39:37</td>\n",
              "    </tr>\n",
              "    <tr>\n",
              "      <th>6</th>\n",
              "      <td>07f9bee5d1b850860defd761afa7ff16</td>\n",
              "      <td>e48aa0d2dcec3a2e87348811bcfdf22b</td>\n",
              "      <td>5</td>\n",
              "      <td>NaN</td>\n",
              "      <td>NaN</td>\n",
              "      <td>2017-07-16</td>\n",
              "      <td>2017-07-18 19:30:34</td>\n",
              "    </tr>\n",
              "    <tr>\n",
              "      <th>...</th>\n",
              "      <td>...</td>\n",
              "      <td>...</td>\n",
              "      <td>...</td>\n",
              "      <td>...</td>\n",
              "      <td>...</td>\n",
              "      <td>...</td>\n",
              "      <td>...</td>\n",
              "    </tr>\n",
              "    <tr>\n",
              "      <th>99217</th>\n",
              "      <td>c6b270c61f67c9f7cb07d84ea8aeaf8b</td>\n",
              "      <td>48f7ee67313eda32bfcf5b9c1dd9522d</td>\n",
              "      <td>5</td>\n",
              "      <td>NaN</td>\n",
              "      <td>NaN</td>\n",
              "      <td>2017-12-13</td>\n",
              "      <td>2017-12-14 11:09:36</td>\n",
              "    </tr>\n",
              "    <tr>\n",
              "      <th>99218</th>\n",
              "      <td>af2dc0519de6e0720ef0c74292fb4114</td>\n",
              "      <td>d699c734a0b1c8111f2272a3f36d398c</td>\n",
              "      <td>5</td>\n",
              "      <td>NaN</td>\n",
              "      <td>NaN</td>\n",
              "      <td>2018-04-27</td>\n",
              "      <td>2018-04-30 01:18:57</td>\n",
              "    </tr>\n",
              "    <tr>\n",
              "      <th>99219</th>\n",
              "      <td>574ed12dd733e5fa530cfd4bbf39d7c9</td>\n",
              "      <td>2a8c23fee101d4d5662fa670396eb8da</td>\n",
              "      <td>5</td>\n",
              "      <td>NaN</td>\n",
              "      <td>NaN</td>\n",
              "      <td>2018-07-07</td>\n",
              "      <td>2018-07-14 17:18:30</td>\n",
              "    </tr>\n",
              "    <tr>\n",
              "      <th>99220</th>\n",
              "      <td>f3897127253a9592a73be9bdfdf4ed7a</td>\n",
              "      <td>22ec9f0669f784db00fa86d035cf8602</td>\n",
              "      <td>5</td>\n",
              "      <td>NaN</td>\n",
              "      <td>NaN</td>\n",
              "      <td>2017-12-09</td>\n",
              "      <td>2017-12-11 20:06:42</td>\n",
              "    </tr>\n",
              "    <tr>\n",
              "      <th>99222</th>\n",
              "      <td>1adeb9d84d72fe4e337617733eb85149</td>\n",
              "      <td>7725825d039fc1f0ceb7635e3f7d9206</td>\n",
              "      <td>4</td>\n",
              "      <td>NaN</td>\n",
              "      <td>NaN</td>\n",
              "      <td>2018-07-01</td>\n",
              "      <td>2018-07-02 12:59:13</td>\n",
              "    </tr>\n",
              "  </tbody>\n",
              "</table>\n",
              "<p>58247 rows × 7 columns</p>\n",
              "</div>"
            ],
            "text/plain": [
              "                              review_id                          order_id  \\\n",
              "0      7bc2406110b926393aa56f80a40eba40  73fc7af87114b39712e6da79b0a377eb   \n",
              "1      80e641a11e56f04c1ad469d5645fdfde  a548910a1c6147796b98fdf73dbeba33   \n",
              "2      228ce5500dc1d8e020d8d1322874b6f0  f9e4b658b201a9f2ecdecbb34bed034b   \n",
              "5      15197aa66ff4d0650b5434f1b46cda19  b18dcdf73be66366873cd26c5724d1dc   \n",
              "6      07f9bee5d1b850860defd761afa7ff16  e48aa0d2dcec3a2e87348811bcfdf22b   \n",
              "...                                 ...                               ...   \n",
              "99217  c6b270c61f67c9f7cb07d84ea8aeaf8b  48f7ee67313eda32bfcf5b9c1dd9522d   \n",
              "99218  af2dc0519de6e0720ef0c74292fb4114  d699c734a0b1c8111f2272a3f36d398c   \n",
              "99219  574ed12dd733e5fa530cfd4bbf39d7c9  2a8c23fee101d4d5662fa670396eb8da   \n",
              "99220  f3897127253a9592a73be9bdfdf4ed7a  22ec9f0669f784db00fa86d035cf8602   \n",
              "99222  1adeb9d84d72fe4e337617733eb85149  7725825d039fc1f0ceb7635e3f7d9206   \n",
              "\n",
              "       review_score review_comment_title review_comment_message  \\\n",
              "0                 4                  NaN                    NaN   \n",
              "1                 5                  NaN                    NaN   \n",
              "2                 5                  NaN                    NaN   \n",
              "5                 1                  NaN                    NaN   \n",
              "6                 5                  NaN                    NaN   \n",
              "...             ...                  ...                    ...   \n",
              "99217             5                  NaN                    NaN   \n",
              "99218             5                  NaN                    NaN   \n",
              "99219             5                  NaN                    NaN   \n",
              "99220             5                  NaN                    NaN   \n",
              "99222             4                  NaN                    NaN   \n",
              "\n",
              "      review_creation_date review_answer_timestamp  \n",
              "0               2018-01-18     2018-01-18 21:46:59  \n",
              "1               2018-03-10     2018-03-11 03:05:13  \n",
              "2               2018-02-17     2018-02-18 14:36:24  \n",
              "5               2018-04-13     2018-04-16 00:39:37  \n",
              "6               2017-07-16     2017-07-18 19:30:34  \n",
              "...                    ...                     ...  \n",
              "99217           2017-12-13     2017-12-14 11:09:36  \n",
              "99218           2018-04-27     2018-04-30 01:18:57  \n",
              "99219           2018-07-07     2018-07-14 17:18:30  \n",
              "99220           2017-12-09     2017-12-11 20:06:42  \n",
              "99222           2018-07-01     2018-07-02 12:59:13  \n",
              "\n",
              "[58247 rows x 7 columns]"
            ]
          },
          "execution_count": 111,
          "metadata": {},
          "output_type": "execute_result"
        }
      ],
      "source": [
        "#melihat data mana saja yang terdapat missing value\n",
        "order_reviews_dataset[order_reviews_dataset.review_comment_title.isna()]\n",
        "order_reviews_dataset[order_reviews_dataset.review_comment_message.isna()]\n",
        "#Karena review_comment_message dan review_comment_title hanya memiliki informasi rating saja(tidak terlalu banyak data yang diberikan), oleh karena itu saya akan melakukan dropping/penghapusan data"
      ]
    },
    {
      "cell_type": "code",
      "execution_count": 112,
      "metadata": {
        "colab": {
          "base_uri": "https://localhost:8080/"
        },
        "id": "lxX7ge6lrYvY",
        "outputId": "0604be98-fd26-4ac5-dc19-8cdc829035c6"
      },
      "outputs": [
        {
          "data": {
            "text/plain": [
              "review_id                  0\n",
              "order_id                   0\n",
              "review_score               0\n",
              "review_comment_title       0\n",
              "review_comment_message     0\n",
              "review_creation_date       0\n",
              "review_answer_timestamp    0\n",
              "dtype: int64"
            ]
          },
          "execution_count": 112,
          "metadata": {},
          "output_type": "execute_result"
        }
      ],
      "source": [
        "#menghapus data review_comment_title yang missing value\n",
        "order_reviews_dataset.dropna(axis=0, inplace=True)\n",
        "order_reviews_dataset.isna().sum()"
      ]
    },
    {
      "cell_type": "markdown",
      "metadata": {
        "id": "iBHT4SWhyH8C"
      },
      "source": [
        "Tidak ada Missing value lagi pada data review_comment_title"
      ]
    },
    {
      "cell_type": "markdown",
      "metadata": {
        "id": "ARPi27SYWch-"
      },
      "source": [
        "### Cleaning Data order_set"
      ]
    },
    {
      "cell_type": "markdown",
      "metadata": {
        "id": "k1ho6dTVnDcJ"
      },
      "source": [
        "#### Tipe data"
      ]
    },
    {
      "cell_type": "code",
      "execution_count": 113,
      "metadata": {
        "id": "bDL6DiNjW_9N"
      },
      "outputs": [],
      "source": [
        "#Melakukan perbaikan pada tipe data order_set\n",
        "datetime_columns = [\"order_approved_at\",\"order_delivered_carrier_date\", \"order_delivered_customer_date\", \"order_estimated_delivery_date\"]\n",
        "\n",
        "for column in datetime_columns:\n",
        "  order_dataset[column] = pd.to_datetime(order_dataset[column])"
      ]
    },
    {
      "cell_type": "code",
      "execution_count": 114,
      "metadata": {
        "colab": {
          "base_uri": "https://localhost:8080/"
        },
        "id": "zYHVzmfamxYb",
        "outputId": "a1839f28-8bda-4c70-e70e-6c473345dfd5"
      },
      "outputs": [
        {
          "name": "stdout",
          "output_type": "stream",
          "text": [
            "<class 'pandas.core.frame.DataFrame'>\n",
            "RangeIndex: 99441 entries, 0 to 99440\n",
            "Data columns (total 8 columns):\n",
            " #   Column                         Non-Null Count  Dtype         \n",
            "---  ------                         --------------  -----         \n",
            " 0   order_id                       99441 non-null  object        \n",
            " 1   customer_id                    99441 non-null  object        \n",
            " 2   order_status                   99441 non-null  object        \n",
            " 3   order_purchase_timestamp       99441 non-null  object        \n",
            " 4   order_approved_at              99281 non-null  datetime64[ns]\n",
            " 5   order_delivered_carrier_date   97658 non-null  datetime64[ns]\n",
            " 6   order_delivered_customer_date  96476 non-null  datetime64[ns]\n",
            " 7   order_estimated_delivery_date  99441 non-null  datetime64[ns]\n",
            "dtypes: datetime64[ns](4), object(4)\n",
            "memory usage: 6.1+ MB\n"
          ]
        }
      ],
      "source": [
        "#Melihat tipe data yang sekarang\n",
        "order_dataset.info()"
      ]
    },
    {
      "cell_type": "markdown",
      "metadata": {
        "id": "_O2l2cQPnNCI"
      },
      "source": [
        "Tipe data order_dataset sudah benar"
      ]
    },
    {
      "cell_type": "markdown",
      "metadata": {
        "id": "uzQLxuOWnRVg"
      },
      "source": [
        "#### Missing Value"
      ]
    },
    {
      "cell_type": "code",
      "execution_count": 115,
      "metadata": {
        "id": "z9t_lasaomhG"
      },
      "outputs": [],
      "source": [
        "#Menghapus missing value pada order_dataset\n",
        "order_dataset.dropna(axis=0, inplace=True)"
      ]
    },
    {
      "cell_type": "code",
      "execution_count": 116,
      "metadata": {
        "colab": {
          "base_uri": "https://localhost:8080/"
        },
        "id": "AgHk7eX1oyhy",
        "outputId": "84c2bef0-cb2e-4a28-d03f-49848789732b"
      },
      "outputs": [
        {
          "name": "stdout",
          "output_type": "stream",
          "text": [
            "<class 'pandas.core.frame.DataFrame'>\n",
            "Index: 96461 entries, 0 to 99440\n",
            "Data columns (total 8 columns):\n",
            " #   Column                         Non-Null Count  Dtype         \n",
            "---  ------                         --------------  -----         \n",
            " 0   order_id                       96461 non-null  object        \n",
            " 1   customer_id                    96461 non-null  object        \n",
            " 2   order_status                   96461 non-null  object        \n",
            " 3   order_purchase_timestamp       96461 non-null  object        \n",
            " 4   order_approved_at              96461 non-null  datetime64[ns]\n",
            " 5   order_delivered_carrier_date   96461 non-null  datetime64[ns]\n",
            " 6   order_delivered_customer_date  96461 non-null  datetime64[ns]\n",
            " 7   order_estimated_delivery_date  96461 non-null  datetime64[ns]\n",
            "dtypes: datetime64[ns](4), object(4)\n",
            "memory usage: 6.6+ MB\n"
          ]
        }
      ],
      "source": [
        "#melihat data mana saja yang terdapat missing value\n",
        "order_dataset.info()\n"
      ]
    },
    {
      "cell_type": "markdown",
      "metadata": {
        "id": "dJONfPyso0H5"
      },
      "source": [
        "Sudah tidak ada data pada Missing Value di order_dataset"
      ]
    },
    {
      "cell_type": "markdown",
      "metadata": {
        "id": "ZvVEr9qapGD7"
      },
      "source": [
        "### Cleaning Data product_dataset"
      ]
    },
    {
      "cell_type": "markdown",
      "metadata": {
        "id": "7CF3cjD-qBVc"
      },
      "source": [
        "#### Missing Value"
      ]
    },
    {
      "cell_type": "code",
      "execution_count": 117,
      "metadata": {
        "colab": {
          "base_uri": "https://localhost:8080/"
        },
        "id": "QloDdJuHpR8e",
        "outputId": "04cd015a-67a9-46a9-dae4-4a9d8567e0d1"
      },
      "outputs": [
        {
          "name": "stdout",
          "output_type": "stream",
          "text": [
            "<class 'pandas.core.frame.DataFrame'>\n",
            "Index: 32340 entries, 0 to 32950\n",
            "Data columns (total 9 columns):\n",
            " #   Column                      Non-Null Count  Dtype  \n",
            "---  ------                      --------------  -----  \n",
            " 0   product_id                  32340 non-null  object \n",
            " 1   product_category_name       32340 non-null  object \n",
            " 2   product_name_lenght         32340 non-null  float64\n",
            " 3   product_description_lenght  32340 non-null  float64\n",
            " 4   product_photos_qty          32340 non-null  float64\n",
            " 5   product_weight_g            32340 non-null  float64\n",
            " 6   product_length_cm           32340 non-null  float64\n",
            " 7   product_height_cm           32340 non-null  float64\n",
            " 8   product_width_cm            32340 non-null  float64\n",
            "dtypes: float64(7), object(2)\n",
            "memory usage: 2.5+ MB\n"
          ]
        }
      ],
      "source": [
        "#Menghapus missing value pada product_dataset\n",
        "product_dataset.dropna(axis=0, inplace=True)\n",
        "product_dataset.info()"
      ]
    },
    {
      "cell_type": "markdown",
      "metadata": {
        "id": "nXIB13ryqJae"
      },
      "source": [
        "tidak ada lagi missing value dari product_dataset"
      ]
    },
    {
      "cell_type": "markdown",
      "metadata": {
        "id": "4BRBxZmbqNTD"
      },
      "source": [
        "#### Inaccurate Data"
      ]
    },
    {
      "cell_type": "code",
      "execution_count": 118,
      "metadata": {
        "colab": {
          "base_uri": "https://localhost:8080/",
          "height": 195
        },
        "id": "JesQtkbfqW_a",
        "outputId": "2aa90427-c8ae-46ce-f8fc-27a0dd93ed42"
      },
      "outputs": [
        {
          "data": {
            "text/html": [
              "<div>\n",
              "<style scoped>\n",
              "    .dataframe tbody tr th:only-of-type {\n",
              "        vertical-align: middle;\n",
              "    }\n",
              "\n",
              "    .dataframe tbody tr th {\n",
              "        vertical-align: top;\n",
              "    }\n",
              "\n",
              "    .dataframe thead th {\n",
              "        text-align: right;\n",
              "    }\n",
              "</style>\n",
              "<table border=\"1\" class=\"dataframe\">\n",
              "  <thead>\n",
              "    <tr style=\"text-align: right;\">\n",
              "      <th></th>\n",
              "      <th>product_id</th>\n",
              "      <th>product_category_name</th>\n",
              "      <th>product_name_lenght</th>\n",
              "      <th>product_description_lenght</th>\n",
              "      <th>product_photos_qty</th>\n",
              "      <th>product_weight_g</th>\n",
              "      <th>product_length_cm</th>\n",
              "      <th>product_height_cm</th>\n",
              "      <th>product_width_cm</th>\n",
              "    </tr>\n",
              "  </thead>\n",
              "  <tbody>\n",
              "    <tr>\n",
              "      <th>9769</th>\n",
              "      <td>81781c0fed9fe1ad6e8c81fca1e1cb08</td>\n",
              "      <td>cama_mesa_banho</td>\n",
              "      <td>51.0</td>\n",
              "      <td>529.0</td>\n",
              "      <td>1.0</td>\n",
              "      <td>0.0</td>\n",
              "      <td>30.0</td>\n",
              "      <td>25.0</td>\n",
              "      <td>30.0</td>\n",
              "    </tr>\n",
              "    <tr>\n",
              "      <th>13683</th>\n",
              "      <td>8038040ee2a71048d4bdbbdc985b69ab</td>\n",
              "      <td>cama_mesa_banho</td>\n",
              "      <td>48.0</td>\n",
              "      <td>528.0</td>\n",
              "      <td>1.0</td>\n",
              "      <td>0.0</td>\n",
              "      <td>30.0</td>\n",
              "      <td>25.0</td>\n",
              "      <td>30.0</td>\n",
              "    </tr>\n",
              "    <tr>\n",
              "      <th>14997</th>\n",
              "      <td>36ba42dd187055e1fbe943b2d11430ca</td>\n",
              "      <td>cama_mesa_banho</td>\n",
              "      <td>53.0</td>\n",
              "      <td>528.0</td>\n",
              "      <td>1.0</td>\n",
              "      <td>0.0</td>\n",
              "      <td>30.0</td>\n",
              "      <td>25.0</td>\n",
              "      <td>30.0</td>\n",
              "    </tr>\n",
              "    <tr>\n",
              "      <th>32079</th>\n",
              "      <td>e673e90efa65a5409ff4196c038bb5af</td>\n",
              "      <td>cama_mesa_banho</td>\n",
              "      <td>53.0</td>\n",
              "      <td>528.0</td>\n",
              "      <td>1.0</td>\n",
              "      <td>0.0</td>\n",
              "      <td>30.0</td>\n",
              "      <td>25.0</td>\n",
              "      <td>30.0</td>\n",
              "    </tr>\n",
              "  </tbody>\n",
              "</table>\n",
              "</div>"
            ],
            "text/plain": [
              "                             product_id product_category_name  \\\n",
              "9769   81781c0fed9fe1ad6e8c81fca1e1cb08       cama_mesa_banho   \n",
              "13683  8038040ee2a71048d4bdbbdc985b69ab       cama_mesa_banho   \n",
              "14997  36ba42dd187055e1fbe943b2d11430ca       cama_mesa_banho   \n",
              "32079  e673e90efa65a5409ff4196c038bb5af       cama_mesa_banho   \n",
              "\n",
              "       product_name_lenght  product_description_lenght  product_photos_qty  \\\n",
              "9769                  51.0                       529.0                 1.0   \n",
              "13683                 48.0                       528.0                 1.0   \n",
              "14997                 53.0                       528.0                 1.0   \n",
              "32079                 53.0                       528.0                 1.0   \n",
              "\n",
              "       product_weight_g  product_length_cm  product_height_cm  \\\n",
              "9769                0.0               30.0               25.0   \n",
              "13683               0.0               30.0               25.0   \n",
              "14997               0.0               30.0               25.0   \n",
              "32079               0.0               30.0               25.0   \n",
              "\n",
              "       product_width_cm  \n",
              "9769               30.0  \n",
              "13683              30.0  \n",
              "14997              30.0  \n",
              "32079              30.0  "
            ]
          },
          "execution_count": 118,
          "metadata": {},
          "output_type": "execute_result"
        }
      ],
      "source": [
        "#melihat data product_weight_g yang memiliki nilai 0\n",
        "product_dataset[product_dataset.product_weight_g == product_dataset.product_weight_g.min()]"
      ]
    },
    {
      "cell_type": "code",
      "execution_count": 119,
      "metadata": {
        "colab": {
          "base_uri": "https://localhost:8080/"
        },
        "id": "5XYO6zAKr9Mg",
        "outputId": "d05064ac-a159-43b2-8eb8-15bd068099bb"
      },
      "outputs": [
        {
          "data": {
            "text/plain": [
              "count    32340.000000\n",
              "mean      2276.956586\n",
              "std       4279.291845\n",
              "min          0.000000\n",
              "25%        300.000000\n",
              "50%        700.000000\n",
              "75%       1900.000000\n",
              "max      40425.000000\n",
              "Name: product_weight_g, dtype: float64"
            ]
          },
          "execution_count": 119,
          "metadata": {},
          "output_type": "execute_result"
        }
      ],
      "source": [
        "product_dataset.product_weight_g.describe()"
      ]
    },
    {
      "cell_type": "code",
      "execution_count": 120,
      "metadata": {
        "id": "rO164SlNtGvG"
      },
      "outputs": [],
      "source": [
        "#Karena banyak informasi terdapat dari baris yang memiliki missing value, Saya akan menggunakan nilai median sebagai pengganti (imputation)\n",
        "product_dataset.loc[product_dataset['product_weight_g'] == 0, 'product_weight_g'] = product_dataset['product_weight_g'].median()\n",
        "\n"
      ]
    },
    {
      "cell_type": "code",
      "execution_count": 121,
      "metadata": {
        "colab": {
          "base_uri": "https://localhost:8080/",
          "height": 73
        },
        "id": "Lm5hmv3It4Hb",
        "outputId": "eee91ce5-ed2a-47ed-f099-29ca67718c45"
      },
      "outputs": [
        {
          "data": {
            "text/html": [
              "<div>\n",
              "<style scoped>\n",
              "    .dataframe tbody tr th:only-of-type {\n",
              "        vertical-align: middle;\n",
              "    }\n",
              "\n",
              "    .dataframe tbody tr th {\n",
              "        vertical-align: top;\n",
              "    }\n",
              "\n",
              "    .dataframe thead th {\n",
              "        text-align: right;\n",
              "    }\n",
              "</style>\n",
              "<table border=\"1\" class=\"dataframe\">\n",
              "  <thead>\n",
              "    <tr style=\"text-align: right;\">\n",
              "      <th></th>\n",
              "      <th>product_id</th>\n",
              "      <th>product_category_name</th>\n",
              "      <th>product_name_lenght</th>\n",
              "      <th>product_description_lenght</th>\n",
              "      <th>product_photos_qty</th>\n",
              "      <th>product_weight_g</th>\n",
              "      <th>product_length_cm</th>\n",
              "      <th>product_height_cm</th>\n",
              "      <th>product_width_cm</th>\n",
              "    </tr>\n",
              "  </thead>\n",
              "  <tbody>\n",
              "  </tbody>\n",
              "</table>\n",
              "</div>"
            ],
            "text/plain": [
              "Empty DataFrame\n",
              "Columns: [product_id, product_category_name, product_name_lenght, product_description_lenght, product_photos_qty, product_weight_g, product_length_cm, product_height_cm, product_width_cm]\n",
              "Index: []"
            ]
          },
          "execution_count": 121,
          "metadata": {},
          "output_type": "execute_result"
        }
      ],
      "source": [
        "#mengecek data product_weight_g yang memiliki nilai 0 ada atau tidak\n",
        "product_dataset[product_dataset['product_weight_g'] == 0]"
      ]
    },
    {
      "cell_type": "markdown",
      "metadata": {
        "id": "yOVn6gcHu8Mn"
      },
      "source": [
        "Sudah tidak ada product_dataset di kolom product_weight_g yang bernilai 0"
      ]
    },
    {
      "cell_type": "markdown",
      "metadata": {
        "id": "EyPJaCDm9KFb"
      },
      "source": [
        "# Exploratory Data Analysis (EDA)"
      ]
    },
    {
      "cell_type": "markdown",
      "metadata": {
        "id": "hxgJ6qd69Mce"
      },
      "source": [
        "### Exploratory Data Analysis customer_df"
      ]
    },
    {
      "cell_type": "code",
      "execution_count": 122,
      "metadata": {
        "colab": {
          "base_uri": "https://localhost:8080/"
        },
        "id": "Xo68yguo9LTl",
        "outputId": "221cd08c-2b4a-4154-baa5-c22d5df803de"
      },
      "outputs": [
        {
          "name": "stdout",
          "output_type": "stream",
          "text": [
            "          customer_city  customer_count\n",
            "0             sao paulo           15540\n",
            "1        rio de janeiro            6882\n",
            "2        belo horizonte            2773\n",
            "3              brasilia            2131\n",
            "4              curitiba            1521\n",
            "...                 ...             ...\n",
            "3362  palmares paulista               1\n",
            "3363     pires ferreira               1\n",
            "3364      vicente dutra               1\n",
            "3365        alagoa nova               1\n",
            "4118  eugenio de castro               1\n",
            "\n",
            "[4119 rows x 2 columns]\n"
          ]
        }
      ],
      "source": [
        "city_customer_counts = customer_df['customer_city'].value_counts().reset_index()\n",
        "city_customer_counts.columns = ['customer_city', 'customer_count']\n",
        "\n",
        "# Mengurutkan berdasarkan jumlah customer secara descending\n",
        "sorted_city_customers = city_customer_counts.sort_values(by='customer_count', ascending=False)\n",
        "\n",
        "print(sorted_city_customers)"
      ]
    },
    {
      "cell_type": "code",
      "execution_count": 123,
      "metadata": {
        "colab": {
          "base_uri": "https://localhost:8080/",
          "height": 423
        },
        "id": "C2KEC0L_7llg",
        "outputId": "264a6393-6093-4842-f5c2-908617cadecc"
      },
      "outputs": [
        {
          "data": {
            "text/html": [
              "<div>\n",
              "<style scoped>\n",
              "    .dataframe tbody tr th:only-of-type {\n",
              "        vertical-align: middle;\n",
              "    }\n",
              "\n",
              "    .dataframe tbody tr th {\n",
              "        vertical-align: top;\n",
              "    }\n",
              "\n",
              "    .dataframe thead th {\n",
              "        text-align: right;\n",
              "    }\n",
              "</style>\n",
              "<table border=\"1\" class=\"dataframe\">\n",
              "  <thead>\n",
              "    <tr style=\"text-align: right;\">\n",
              "      <th></th>\n",
              "      <th>customer_city</th>\n",
              "      <th>customer_count</th>\n",
              "    </tr>\n",
              "  </thead>\n",
              "  <tbody>\n",
              "    <tr>\n",
              "      <th>2975</th>\n",
              "      <td>virginia</td>\n",
              "      <td>1</td>\n",
              "    </tr>\n",
              "    <tr>\n",
              "      <th>2976</th>\n",
              "      <td>florania</td>\n",
              "      <td>1</td>\n",
              "    </tr>\n",
              "    <tr>\n",
              "      <th>2977</th>\n",
              "      <td>embauba</td>\n",
              "      <td>1</td>\n",
              "    </tr>\n",
              "    <tr>\n",
              "      <th>2978</th>\n",
              "      <td>general maynard</td>\n",
              "      <td>1</td>\n",
              "    </tr>\n",
              "    <tr>\n",
              "      <th>2979</th>\n",
              "      <td>duas barras</td>\n",
              "      <td>1</td>\n",
              "    </tr>\n",
              "    <tr>\n",
              "      <th>...</th>\n",
              "      <td>...</td>\n",
              "      <td>...</td>\n",
              "    </tr>\n",
              "    <tr>\n",
              "      <th>4114</th>\n",
              "      <td>bequimao</td>\n",
              "      <td>1</td>\n",
              "    </tr>\n",
              "    <tr>\n",
              "      <th>4115</th>\n",
              "      <td>andarai</td>\n",
              "      <td>1</td>\n",
              "    </tr>\n",
              "    <tr>\n",
              "      <th>4116</th>\n",
              "      <td>vargem grande</td>\n",
              "      <td>1</td>\n",
              "    </tr>\n",
              "    <tr>\n",
              "      <th>4117</th>\n",
              "      <td>curvelandia</td>\n",
              "      <td>1</td>\n",
              "    </tr>\n",
              "    <tr>\n",
              "      <th>4118</th>\n",
              "      <td>eugenio de castro</td>\n",
              "      <td>1</td>\n",
              "    </tr>\n",
              "  </tbody>\n",
              "</table>\n",
              "<p>1144 rows × 2 columns</p>\n",
              "</div>"
            ],
            "text/plain": [
              "          customer_city  customer_count\n",
              "2975           virginia               1\n",
              "2976           florania               1\n",
              "2977            embauba               1\n",
              "2978    general maynard               1\n",
              "2979        duas barras               1\n",
              "...                 ...             ...\n",
              "4114           bequimao               1\n",
              "4115            andarai               1\n",
              "4116      vargem grande               1\n",
              "4117        curvelandia               1\n",
              "4118  eugenio de castro               1\n",
              "\n",
              "[1144 rows x 2 columns]"
            ]
          },
          "execution_count": 123,
          "metadata": {},
          "output_type": "execute_result"
        }
      ],
      "source": [
        "#Melihat data mana saja yang memiliki payment_installments 0\n",
        "city_customer_counts[city_customer_counts.customer_count == city_customer_counts.customer_count.min()]"
      ]
    },
    {
      "cell_type": "code",
      "execution_count": 124,
      "metadata": {
        "colab": {
          "base_uri": "https://localhost:8080/",
          "height": 81
        },
        "id": "mcgWc_SV8FWv",
        "outputId": "f46fd0e8-64c9-4128-bfb4-58125f5981a3"
      },
      "outputs": [
        {
          "data": {
            "text/html": [
              "<div>\n",
              "<style scoped>\n",
              "    .dataframe tbody tr th:only-of-type {\n",
              "        vertical-align: middle;\n",
              "    }\n",
              "\n",
              "    .dataframe tbody tr th {\n",
              "        vertical-align: top;\n",
              "    }\n",
              "\n",
              "    .dataframe thead th {\n",
              "        text-align: right;\n",
              "    }\n",
              "</style>\n",
              "<table border=\"1\" class=\"dataframe\">\n",
              "  <thead>\n",
              "    <tr style=\"text-align: right;\">\n",
              "      <th></th>\n",
              "      <th>customer_city</th>\n",
              "      <th>customer_count</th>\n",
              "    </tr>\n",
              "  </thead>\n",
              "  <tbody>\n",
              "    <tr>\n",
              "      <th>0</th>\n",
              "      <td>sao paulo</td>\n",
              "      <td>15540</td>\n",
              "    </tr>\n",
              "  </tbody>\n",
              "</table>\n",
              "</div>"
            ],
            "text/plain": [
              "  customer_city  customer_count\n",
              "0     sao paulo           15540"
            ]
          },
          "execution_count": 124,
          "metadata": {},
          "output_type": "execute_result"
        }
      ],
      "source": [
        "city_customer_counts[city_customer_counts.customer_count == city_customer_counts.customer_count.max()]"
      ]
    },
    {
      "cell_type": "markdown",
      "metadata": {
        "id": "veCU--8C5RYI"
      },
      "source": [
        "Dari tabel customer, yang bisa kita ambil informasi dari tabel ini saja, adalah darimana saja customer ini berada. Bagaiamana persebarannyya dan darimana saja, serta paling banyak dan paling sedikit dari kota mana."
      ]
    },
    {
      "cell_type": "markdown",
      "metadata": {
        "id": "ejQ5UM_Os1aW"
      },
      "source": [
        "### Exploratory Data Analysist order_items_dataset dan product_dataset"
      ]
    },
    {
      "cell_type": "code",
      "execution_count": 125,
      "metadata": {
        "id": "et6JJDCztF7g"
      },
      "outputs": [],
      "source": [
        "merged_items_product_df = order_items_dataset.merge(product_dataset, on='product_id', how='inner')"
      ]
    },
    {
      "cell_type": "code",
      "execution_count": 126,
      "metadata": {
        "colab": {
          "base_uri": "https://localhost:8080/",
          "height": 320
        },
        "id": "_KOMgcrAwz-Z",
        "outputId": "13d563d4-ce17-46ee-db7c-af118a066b9a"
      },
      "outputs": [
        {
          "data": {
            "text/html": [
              "<div>\n",
              "<style scoped>\n",
              "    .dataframe tbody tr th:only-of-type {\n",
              "        vertical-align: middle;\n",
              "    }\n",
              "\n",
              "    .dataframe tbody tr th {\n",
              "        vertical-align: top;\n",
              "    }\n",
              "\n",
              "    .dataframe thead th {\n",
              "        text-align: right;\n",
              "    }\n",
              "</style>\n",
              "<table border=\"1\" class=\"dataframe\">\n",
              "  <thead>\n",
              "    <tr style=\"text-align: right;\">\n",
              "      <th></th>\n",
              "      <th>order_item_id</th>\n",
              "      <th>shipping_limit_date</th>\n",
              "      <th>price</th>\n",
              "      <th>freight_value</th>\n",
              "      <th>product_name_lenght</th>\n",
              "      <th>product_description_lenght</th>\n",
              "      <th>product_photos_qty</th>\n",
              "      <th>product_weight_g</th>\n",
              "      <th>product_length_cm</th>\n",
              "      <th>product_height_cm</th>\n",
              "      <th>product_width_cm</th>\n",
              "    </tr>\n",
              "  </thead>\n",
              "  <tbody>\n",
              "    <tr>\n",
              "      <th>count</th>\n",
              "      <td>111046.000000</td>\n",
              "      <td>111046</td>\n",
              "      <td>111046.000000</td>\n",
              "      <td>111046.000000</td>\n",
              "      <td>111046.000000</td>\n",
              "      <td>111046.000000</td>\n",
              "      <td>111046.000000</td>\n",
              "      <td>111046.000000</td>\n",
              "      <td>111046.000000</td>\n",
              "      <td>111046.000000</td>\n",
              "      <td>111046.000000</td>\n",
              "    </tr>\n",
              "    <tr>\n",
              "      <th>mean</th>\n",
              "      <td>1.198215</td>\n",
              "      <td>2018-01-08 10:09:32.626181888</td>\n",
              "      <td>120.762337</td>\n",
              "      <td>20.025149</td>\n",
              "      <td>48.775877</td>\n",
              "      <td>787.866335</td>\n",
              "      <td>2.209706</td>\n",
              "      <td>2100.030087</td>\n",
              "      <td>30.211003</td>\n",
              "      <td>16.626362</td>\n",
              "      <td>23.041956</td>\n",
              "    </tr>\n",
              "    <tr>\n",
              "      <th>min</th>\n",
              "      <td>1.000000</td>\n",
              "      <td>2016-09-19 00:15:34</td>\n",
              "      <td>0.850000</td>\n",
              "      <td>0.000000</td>\n",
              "      <td>5.000000</td>\n",
              "      <td>4.000000</td>\n",
              "      <td>1.000000</td>\n",
              "      <td>2.000000</td>\n",
              "      <td>7.000000</td>\n",
              "      <td>2.000000</td>\n",
              "      <td>6.000000</td>\n",
              "    </tr>\n",
              "    <tr>\n",
              "      <th>25%</th>\n",
              "      <td>1.000000</td>\n",
              "      <td>2017-09-21 04:50:18.750000128</td>\n",
              "      <td>39.900000</td>\n",
              "      <td>13.080000</td>\n",
              "      <td>42.000000</td>\n",
              "      <td>348.000000</td>\n",
              "      <td>1.000000</td>\n",
              "      <td>300.000000</td>\n",
              "      <td>18.000000</td>\n",
              "      <td>8.000000</td>\n",
              "      <td>15.000000</td>\n",
              "    </tr>\n",
              "    <tr>\n",
              "      <th>50%</th>\n",
              "      <td>1.000000</td>\n",
              "      <td>2018-01-28 23:19:02</td>\n",
              "      <td>74.990000</td>\n",
              "      <td>16.300000</td>\n",
              "      <td>52.000000</td>\n",
              "      <td>603.000000</td>\n",
              "      <td>1.000000</td>\n",
              "      <td>700.000000</td>\n",
              "      <td>25.000000</td>\n",
              "      <td>13.000000</td>\n",
              "      <td>20.000000</td>\n",
              "    </tr>\n",
              "    <tr>\n",
              "      <th>75%</th>\n",
              "      <td>1.000000</td>\n",
              "      <td>2018-05-11 00:26:54.249999872</td>\n",
              "      <td>134.900000</td>\n",
              "      <td>21.180000</td>\n",
              "      <td>57.000000</td>\n",
              "      <td>987.000000</td>\n",
              "      <td>3.000000</td>\n",
              "      <td>1800.000000</td>\n",
              "      <td>38.000000</td>\n",
              "      <td>20.000000</td>\n",
              "      <td>30.000000</td>\n",
              "    </tr>\n",
              "    <tr>\n",
              "      <th>max</th>\n",
              "      <td>21.000000</td>\n",
              "      <td>2020-04-09 22:35:08</td>\n",
              "      <td>6735.000000</td>\n",
              "      <td>409.680000</td>\n",
              "      <td>76.000000</td>\n",
              "      <td>3992.000000</td>\n",
              "      <td>20.000000</td>\n",
              "      <td>40425.000000</td>\n",
              "      <td>105.000000</td>\n",
              "      <td>105.000000</td>\n",
              "      <td>118.000000</td>\n",
              "    </tr>\n",
              "    <tr>\n",
              "      <th>std</th>\n",
              "      <td>0.706875</td>\n",
              "      <td>NaN</td>\n",
              "      <td>183.339790</td>\n",
              "      <td>15.840629</td>\n",
              "      <td>10.025570</td>\n",
              "      <td>652.138503</td>\n",
              "      <td>1.721445</td>\n",
              "      <td>3754.761721</td>\n",
              "      <td>16.189352</td>\n",
              "      <td>13.467460</td>\n",
              "      <td>11.716659</td>\n",
              "    </tr>\n",
              "  </tbody>\n",
              "</table>\n",
              "</div>"
            ],
            "text/plain": [
              "       order_item_id            shipping_limit_date          price  \\\n",
              "count  111046.000000                         111046  111046.000000   \n",
              "mean        1.198215  2018-01-08 10:09:32.626181888     120.762337   \n",
              "min         1.000000            2016-09-19 00:15:34       0.850000   \n",
              "25%         1.000000  2017-09-21 04:50:18.750000128      39.900000   \n",
              "50%         1.000000            2018-01-28 23:19:02      74.990000   \n",
              "75%         1.000000  2018-05-11 00:26:54.249999872     134.900000   \n",
              "max        21.000000            2020-04-09 22:35:08    6735.000000   \n",
              "std         0.706875                            NaN     183.339790   \n",
              "\n",
              "       freight_value  product_name_lenght  product_description_lenght  \\\n",
              "count  111046.000000        111046.000000               111046.000000   \n",
              "mean       20.025149            48.775877                  787.866335   \n",
              "min         0.000000             5.000000                    4.000000   \n",
              "25%        13.080000            42.000000                  348.000000   \n",
              "50%        16.300000            52.000000                  603.000000   \n",
              "75%        21.180000            57.000000                  987.000000   \n",
              "max       409.680000            76.000000                 3992.000000   \n",
              "std        15.840629            10.025570                  652.138503   \n",
              "\n",
              "       product_photos_qty  product_weight_g  product_length_cm  \\\n",
              "count       111046.000000     111046.000000      111046.000000   \n",
              "mean             2.209706       2100.030087          30.211003   \n",
              "min              1.000000          2.000000           7.000000   \n",
              "25%              1.000000        300.000000          18.000000   \n",
              "50%              1.000000        700.000000          25.000000   \n",
              "75%              3.000000       1800.000000          38.000000   \n",
              "max             20.000000      40425.000000         105.000000   \n",
              "std              1.721445       3754.761721          16.189352   \n",
              "\n",
              "       product_height_cm  product_width_cm  \n",
              "count      111046.000000     111046.000000  \n",
              "mean           16.626362         23.041956  \n",
              "min             2.000000          6.000000  \n",
              "25%             8.000000         15.000000  \n",
              "50%            13.000000         20.000000  \n",
              "75%            20.000000         30.000000  \n",
              "max           105.000000        118.000000  \n",
              "std            13.467460         11.716659  "
            ]
          },
          "execution_count": 126,
          "metadata": {},
          "output_type": "execute_result"
        }
      ],
      "source": [
        "merged_items_product_df.describe()"
      ]
    },
    {
      "cell_type": "code",
      "execution_count": 127,
      "metadata": {
        "colab": {
          "base_uri": "https://localhost:8080/"
        },
        "id": "hZG5xQy7yR6G",
        "outputId": "605c1343-4256-4be5-b316-7668c743dfb2"
      },
      "outputs": [
        {
          "name": "stdout",
          "output_type": "stream",
          "text": [
            "        volumeBarang  freight_value\n",
            "100554      296208.0         339.59\n",
            "67441       294000.0         119.29\n",
            "71810       294000.0         163.52\n",
            "71809       294000.0         163.52\n",
            "97328       294000.0         120.19\n",
            "...              ...            ...\n",
            "38709          352.0          15.23\n",
            "38710          352.0          15.23\n",
            "64629          352.0           8.72\n",
            "4536           288.0          20.85\n",
            "110039         168.0          27.05\n",
            "\n",
            "[111046 rows x 2 columns]\n"
          ]
        }
      ],
      "source": [
        "#Melihat apakah semakin besar volume benda (dari length, height, width) apakah freight value semakin besar?\n",
        "#Untuk melakukan itu kita harus sort volume benda tersebar hingga terkecil lalu ascendingkan dan bandingkan dengan volume terkecil apakah freight value berpengaruh?\n",
        "merged_items_product_df[\"volumeBarang\"] = merged_items_product_df[\"product_length_cm\"]*merged_items_product_df[\"product_height_cm\"]*merged_items_product_df[\"product_width_cm\"]\n",
        "sorted = merged_items_product_df.sort_values(by=\"volumeBarang\", ascending=True)\n",
        "selected_columns=sorted[[\"volumeBarang\",\"freight_value\"]]\n",
        "print(selected_columns.sort_values(by=\"volumeBarang\", ascending=False))"
      ]
    },
    {
      "cell_type": "code",
      "execution_count": 128,
      "metadata": {
        "colab": {
          "base_uri": "https://localhost:8080/"
        },
        "id": "6-Z71tn-El8w",
        "outputId": "bf032e5f-b8fb-4df0-fae2-0b00e00b2651"
      },
      "outputs": [
        {
          "name": "stdout",
          "output_type": "stream",
          "text": [
            "Korelasi antara Volume Barang dan Freight Value: 0.5876008947927364\n"
          ]
        }
      ],
      "source": [
        "correlation = selected_columns[\"volumeBarang\"].corr(selected_columns[\"freight_value\"])\n",
        "print(\"Korelasi antara Volume Barang dan Freight Value:\", correlation)"
      ]
    },
    {
      "cell_type": "markdown",
      "metadata": {
        "id": "Pp6t9mDeEMsJ"
      },
      "source": [
        "Nilai korelasi 0.5876008947927341 menunjukkan bahwa ada hubungan yang cukup kuat antara Volume Barang dan Freight Value."
      ]
    },
    {
      "cell_type": "markdown",
      "metadata": {
        "id": "UqtCKuY_siKF"
      },
      "source": [
        "### Exploratory Data Analyst order_payments_dataset"
      ]
    },
    {
      "cell_type": "code",
      "execution_count": 129,
      "metadata": {
        "colab": {
          "base_uri": "https://localhost:8080/"
        },
        "id": "zW0KdG2mEMZq",
        "outputId": "50f3a09b-6ce6-46ac-a8b7-1dcd299ca17d"
      },
      "outputs": [
        {
          "name": "stdout",
          "output_type": "stream",
          "text": [
            "  payment type  Jumlah\n",
            "0  credit_card   76793\n",
            "1       boleto   19784\n",
            "2      voucher    5775\n",
            "3   debit_card    1529\n"
          ]
        }
      ],
      "source": [
        "payment_counts = order_payments_dataset['payment_type'].value_counts().reset_index()\n",
        "payment_counts.columns = ['payment type', 'Jumlah']\n",
        "\n",
        "# Mengurutkan berdasarkan jumlah customer secara descending\n",
        "sorted_payments_customers = payment_counts.sort_values(by='Jumlah', ascending=False)\n",
        "\n",
        "print(sorted_payments_customers)"
      ]
    },
    {
      "cell_type": "markdown",
      "metadata": {
        "id": "bePbCBbiKTjw"
      },
      "source": [
        "### Exploratory Data Analysist order_review_dataset, order_items_dataset, product_dataset"
      ]
    },
    {
      "cell_type": "markdown",
      "metadata": {
        "id": "9_VVsL4Xaolt"
      },
      "source": []
    },
    {
      "cell_type": "code",
      "execution_count": 130,
      "metadata": {
        "colab": {
          "base_uri": "https://localhost:8080/"
        },
        "id": "Wp41A_M8GUPe",
        "outputId": "7623fea4-f116-4bc6-f5ad-c6765e69d43b"
      },
      "outputs": [
        {
          "name": "stdout",
          "output_type": "stream",
          "text": [
            "   review_score  Jumlah\n",
            "0             5    5422\n",
            "1             1    1789\n",
            "2             4    1433\n",
            "3             3     737\n",
            "4             2     458\n"
          ]
        }
      ],
      "source": [
        "reviews_counts = order_reviews_dataset['review_score'].value_counts().reset_index()\n",
        "reviews_counts.columns = ['review_score', 'Jumlah']\n",
        "\n",
        "# Mengurutkan berdasarkan jumlah customer secara descending\n",
        "sorted_reviews_customers = reviews_counts.sort_values(by='Jumlah', ascending=False)\n",
        "\n",
        "print(sorted_reviews_customers)"
      ]
    },
    {
      "cell_type": "markdown",
      "metadata": {
        "id": "8O1MqpagZcsE"
      },
      "source": [
        "Yang paling banyak adalah rating 5 dengan jumlah 5422"
      ]
    },
    {
      "cell_type": "code",
      "execution_count": 131,
      "metadata": {
        "id": "cVDk7Sk9aX8e"
      },
      "outputs": [],
      "source": [
        "merged_review_df = order_reviews_dataset.merge(merged_items_product_df, on='order_id', how='inner')\n",
        "merged_review_df = merged_review_df.merge(product_category_name_translation, on='product_category_name', how='inner' )"
      ]
    },
    {
      "cell_type": "markdown",
      "metadata": {
        "id": "z6qYl33h53Fq"
      },
      "source": []
    },
    {
      "cell_type": "code",
      "execution_count": 132,
      "metadata": {
        "colab": {
          "base_uri": "https://localhost:8080/"
        },
        "id": "b2iDaUiLaz0S",
        "outputId": "a66fa377-ad6a-4878-e834-1d03d0d81fdf"
      },
      "outputs": [
        {
          "name": "stdout",
          "output_type": "stream",
          "text": [
            "<class 'pandas.core.frame.DataFrame'>\n",
            "RangeIndex: 11459 entries, 0 to 11458\n",
            "Data columns (total 23 columns):\n",
            " #   Column                         Non-Null Count  Dtype         \n",
            "---  ------                         --------------  -----         \n",
            " 0   review_id                      11459 non-null  object        \n",
            " 1   order_id                       11459 non-null  object        \n",
            " 2   review_score                   11459 non-null  int64         \n",
            " 3   review_comment_title           11459 non-null  object        \n",
            " 4   review_comment_message         11459 non-null  object        \n",
            " 5   review_creation_date           11459 non-null  datetime64[ns]\n",
            " 6   review_answer_timestamp        11459 non-null  datetime64[ns]\n",
            " 7   order_item_id                  11459 non-null  int64         \n",
            " 8   product_id                     11459 non-null  object        \n",
            " 9   seller_id                      11459 non-null  object        \n",
            " 10  shipping_limit_date            11459 non-null  datetime64[ns]\n",
            " 11  price                          11459 non-null  float64       \n",
            " 12  freight_value                  11459 non-null  float64       \n",
            " 13  product_category_name          11459 non-null  object        \n",
            " 14  product_name_lenght            11459 non-null  float64       \n",
            " 15  product_description_lenght     11459 non-null  float64       \n",
            " 16  product_photos_qty             11459 non-null  float64       \n",
            " 17  product_weight_g               11459 non-null  float64       \n",
            " 18  product_length_cm              11459 non-null  float64       \n",
            " 19  product_height_cm              11459 non-null  float64       \n",
            " 20  product_width_cm               11459 non-null  float64       \n",
            " 21  volumeBarang                   11459 non-null  float64       \n",
            " 22  product_category_name_english  11459 non-null  object        \n",
            "dtypes: datetime64[ns](3), float64(10), int64(2), object(8)\n",
            "memory usage: 2.0+ MB\n"
          ]
        }
      ],
      "source": [
        "merged_review_df.info()"
      ]
    },
    {
      "cell_type": "code",
      "execution_count": 133,
      "metadata": {
        "colab": {
          "base_uri": "https://localhost:8080/"
        },
        "id": "wy31T3ow-wlo",
        "outputId": "75e2c8b1-8343-44a3-8117-a6459326b200"
      },
      "outputs": [
        {
          "name": "stdout",
          "output_type": "stream",
          "text": [
            "    product_category_name_english  review_score  Jumlah\n",
            "161                 health_beauty             5     615\n",
            "37                 bed_bath_table             5     601\n",
            "273                 watches_gifts             5     460\n",
            "188                    housewares             5     443\n",
            "252                sports_leisure             5     416\n",
            "..                            ...           ...     ...\n",
            "47                books_technical             3       1\n",
            "97            diapers_and_hygiene             1       1\n",
            "121       fashion_underwear_beach             1       1\n",
            "223                party_supplies             4       1\n",
            "50              cds_dvds_musicals             5       1\n",
            "\n",
            "[274 rows x 3 columns]\n"
          ]
        }
      ],
      "source": [
        "merged_data = merged_review_df.merge(product_dataset, on='product_id', how='inner')\n",
        "grouped_data = merged_data.groupby(['product_category_name_english', 'review_score']).size().reset_index(name='Jumlah')\n",
        "print(grouped_data.sort_values(by='Jumlah', ascending=False))\n"
      ]
    },
    {
      "cell_type": "markdown",
      "metadata": {
        "id": "Mw1nu29qc_X7"
      },
      "source": [
        "Bisa kita lihat bahwa health_beauty adalah product dengan jumlah review dengan bintang 5 terbanyak."
      ]
    },
    {
      "cell_type": "markdown",
      "metadata": {
        "id": "rvDwL2CyaaWD"
      },
      "source": [
        "### Exploratory Data Analysist order_dataset, order_items_dataset, product_dataset\n"
      ]
    },
    {
      "cell_type": "code",
      "execution_count": 134,
      "metadata": {
        "colab": {
          "base_uri": "https://localhost:8080/"
        },
        "id": "HPBX8SCYdQLP",
        "outputId": "278f95e2-6afd-4c8e-8961-2f0ce35f65f5"
      },
      "outputs": [
        {
          "name": "stdout",
          "output_type": "stream",
          "text": [
            "<class 'pandas.core.frame.DataFrame'>\n",
            "RangeIndex: 108621 entries, 0 to 108620\n",
            "Data columns (total 24 columns):\n",
            " #   Column                         Non-Null Count   Dtype         \n",
            "---  ------                         --------------   -----         \n",
            " 0   order_id                       108621 non-null  object        \n",
            " 1   customer_id                    108621 non-null  object        \n",
            " 2   order_status                   108621 non-null  object        \n",
            " 3   order_purchase_timestamp       108621 non-null  object        \n",
            " 4   order_approved_at              108621 non-null  datetime64[ns]\n",
            " 5   order_delivered_carrier_date   108621 non-null  datetime64[ns]\n",
            " 6   order_delivered_customer_date  108621 non-null  datetime64[ns]\n",
            " 7   order_estimated_delivery_date  108621 non-null  datetime64[ns]\n",
            " 8   order_item_id                  108621 non-null  int64         \n",
            " 9   product_id                     108621 non-null  object        \n",
            " 10  seller_id                      108621 non-null  object        \n",
            " 11  shipping_limit_date            108621 non-null  datetime64[ns]\n",
            " 12  price                          108621 non-null  float64       \n",
            " 13  freight_value                  108621 non-null  float64       \n",
            " 14  product_category_name          108621 non-null  object        \n",
            " 15  product_name_lenght            108621 non-null  float64       \n",
            " 16  product_description_lenght     108621 non-null  float64       \n",
            " 17  product_photos_qty             108621 non-null  float64       \n",
            " 18  product_weight_g               108621 non-null  float64       \n",
            " 19  product_length_cm              108621 non-null  float64       \n",
            " 20  product_height_cm              108621 non-null  float64       \n",
            " 21  product_width_cm               108621 non-null  float64       \n",
            " 22  volumeBarang                   108621 non-null  float64       \n",
            " 23  product_category_name_english  108621 non-null  object        \n",
            "dtypes: datetime64[ns](5), float64(10), int64(1), object(8)\n",
            "memory usage: 19.9+ MB\n"
          ]
        }
      ],
      "source": [
        "merged_order_df = order_dataset.merge(merged_items_product_df, on='order_id', how='inner')\n",
        "merged_order_df = merged_order_df.merge(product_category_name_translation, on='product_category_name', how='inner' )\n",
        "merged_order_df.info()"
      ]
    },
    {
      "cell_type": "code",
      "execution_count": 135,
      "metadata": {
        "colab": {
          "base_uri": "https://localhost:8080/"
        },
        "id": "UF4CBorrjc3B",
        "outputId": "0ddb5a19-6cea-481c-bc1a-526288348cd5"
      },
      "outputs": [
        {
          "name": "stdout",
          "output_type": "stream",
          "text": [
            "   product_category_name_english  Jumlah\n",
            "7                 bed_bath_table    1178\n",
            "40                 health_beauty    1097\n",
            "65                 watches_gifts     927\n",
            "46                    housewares     911\n",
            "60                sports_leisure     734\n",
            "..                           ...     ...\n",
            "25                  dvds_blu_ray       3\n",
            "11             cds_dvds_musicals       1\n",
            "62        tablets_printing_image       1\n",
            "28     fashion_childrens_clothes       1\n",
            "33                       flowers       1\n",
            "\n",
            "[66 rows x 2 columns]\n"
          ]
        }
      ],
      "source": [
        "grouped_order_dataset = merged_data.groupby(['product_category_name_english']).size().reset_index(name='Jumlah')\n",
        "print(grouped_order_dataset.sort_values(by='Jumlah', ascending=False))"
      ]
    },
    {
      "cell_type": "code",
      "execution_count": 136,
      "metadata": {
        "colab": {
          "base_uri": "https://localhost:8080/"
        },
        "id": "GjKeGV2UbaXR",
        "outputId": "78f3f9aa-4ae2-4f41-94ba-cf03c61a9683"
      },
      "outputs": [
        {
          "name": "stdout",
          "output_type": "stream",
          "text": [
            "Kategori Produk Paling Diminati:\n",
            "  product_category_name_english  Jumlah\n",
            "7                bed_bath_table    1178\n",
            "Kategori Produk Paling Tidak Diminati:\n",
            "   product_category_name_english  Jumlah\n",
            "11             cds_dvds_musicals       1\n",
            "28     fashion_childrens_clothes       1\n",
            "33                       flowers       1\n",
            "62        tablets_printing_image       1\n"
          ]
        }
      ],
      "source": [
        "# Menemukan kategori produk yang paling diminati (maksimum jumlah pesanan)\n",
        "most_popular = grouped_order_dataset[grouped_order_dataset['Jumlah'] == grouped_order_dataset['Jumlah'].max()]\n",
        "\n",
        "# Menemukan kategori produk yang paling tidak diminati (minimum jumlah pesanan)\n",
        "least_popular = grouped_order_dataset[grouped_order_dataset['Jumlah'] == grouped_order_dataset['Jumlah'].min()]\n",
        "\n",
        "print(\"Kategori Produk Paling Diminati:\")\n",
        "print(most_popular)\n",
        "\n",
        "print(\"Kategori Produk Paling Tidak Diminati:\")\n",
        "print(least_popular)"
      ]
    },
    {
      "cell_type": "markdown",
      "metadata": {
        "id": "pmjJqQOFieds"
      },
      "source": [
        "Bisa kita lihat bahwa bed_bath_table dan health_beauty merupakan kategori dengan jumalh"
      ]
    },
    {
      "cell_type": "code",
      "execution_count": 137,
      "metadata": {
        "colab": {
          "base_uri": "https://localhost:8080/"
        },
        "id": "af7_RC4ljk7m",
        "outputId": "08e340b0-a262-4830-c730-36705517e7f1"
      },
      "outputs": [
        {
          "name": "stdout",
          "output_type": "stream",
          "text": [
            "Banyaknya orderan yang tepat waktu adalah 87742\n",
            "Banyaknya orderan yang terlambat adalah 8719\n"
          ]
        }
      ],
      "source": [
        "delivery_time = order_dataset[\"order_delivered_customer_date\"] - order_dataset[\"order_delivered_carrier_date\"]\n",
        "delivery_time = delivery_time.apply(lambda x: x.total_seconds() / 86400)  # Menghitung dalam hari\n",
        "order_dataset[\"delivery_time\"] = delivery_time\n",
        "\n",
        "def is_on_time(row):\n",
        "    return row[\"delivery_time\"] <= (row[\"order_estimated_delivery_date\"] - row[\"order_delivered_carrier_date\"]).days\n",
        "\n",
        "order_dataset[\"on_time\"] = order_dataset.apply(is_on_time, axis=1)\n",
        "\n",
        "#Variabel yang menyatakan berapa banyak yang tepat waktu dan mana pesanan yang terlambat\n",
        "tepat_waktu = order_dataset[\"on_time\"].sum()\n",
        "terlambat = len(order_dataset) - tepat_waktu\n",
        "\n",
        "print(\"Banyaknya orderan yang tepat waktu adalah\", tepat_waktu)\n",
        "print(\"Banyaknya orderan yang terlambat adalah\", terlambat)\n"
      ]
    },
    {
      "cell_type": "markdown",
      "metadata": {
        "id": "SCNmtOLp9OKB"
      },
      "source": [
        "# Visualization & Explanatory Analysis"
      ]
    },
    {
      "cell_type": "markdown",
      "metadata": {
        "id": "SG59_Fbj9Qr6"
      },
      "source": [
        "### Pertanyaan 1: Bagaimana persebaran rating dari penjualan produk berdasarkan kategorinya?"
      ]
    },
    {
      "cell_type": "code",
      "execution_count": 138,
      "metadata": {
        "colab": {
          "base_uri": "https://localhost:8080/",
          "height": 315
        },
        "id": "uz-Deqy0OWoU",
        "outputId": "fa867355-1616-4d5a-afea-ebaa3601cb37"
      },
      "outputs": [
        {
          "data": {
            "image/png": "[encoded data removed]",
            "text/plain": [
              "<Figure size 2400x600 with 2 Axes>"
            ]
          },
          "metadata": {},
          "output_type": "display_data"
        }
      ],
      "source": [
        "# Sort the data first\n",
        "grouped_data = grouped_data.sort_values(by=\"Jumlah\", ascending=False)\n",
        "\n",
        "# Take the top and worst 5 categories\n",
        "top_5_categories = grouped_data.head(5)\n",
        "worst_5_categories = grouped_data.tail(5)\n",
        "\n",
        "\n",
        "# Create the plot\n",
        "fig, (ax1, ax2) = plt.subplots(1, 2, figsize=(24, 6))\n",
        "colors = [\"#72BCD4\", \"#D3D3D3\", \"#D3D3D3\", \"#D3D3D3\", \"#D3D3D3\"]\n",
        "\n",
        "# Bar plot for the top categories\n",
        "sns.barplot(x=\"Jumlah\", y=\"product_category_name_english\", data=top_5_categories, palette=colors, ax=ax1)\n",
        "ax1.set_ylabel(None)\n",
        "ax1.set_xlabel(None)\n",
        "ax1.set_title(\"Best Performing Product\", loc=\"center\", fontsize=15)\n",
        "ax1.tick_params(axis='y', labelsize=12)\n",
        "\n",
        "# Bar plot for the worst categories\n",
        "sns.barplot(x=\"Jumlah\", y=\"product_category_name_english\", data=worst_5_categories, palette=colors, ax=ax2)\n",
        "ax2.set_ylabel(None)\n",
        "ax2.set_xlabel(None)\n",
        "ax2.invert_xaxis()\n",
        "ax2.yaxis.set_label_position(\"right\")\n",
        "ax2.yaxis.tick_right()\n",
        "ax2.set_title(\"Worst Performing Product\", loc=\"center\", fontsize=15)\n",
        "ax2.tick_params(axis='y', labelsize=12)\n",
        "\n",
        "plt.suptitle(\"Best Performing Product by Number of Sales (5 Star Rating)\", fontsize=20)\n",
        "plt.show()\n"
      ]
    },
    {
      "cell_type": "markdown",
      "metadata": {
        "id": "F2Bo_ypQ9RfH"
      },
      "source": [
        "### Pertanyaan 2:Berapa persen pesanan yang datang sesuai atau bahkan lebih cepat dari estimasi"
      ]
    },
    {
      "cell_type": "code",
      "execution_count": 139,
      "metadata": {
        "colab": {
          "base_uri": "https://localhost:8080/",
          "height": 428
        },
        "id": "KycOZopa3JbP",
        "outputId": "6b23994b-2d80-4492-cc0f-c83b78814999"
      },
      "outputs": [
        {
          "data": {
            "image/png": "[encoded data removed]",
            "text/plain": [
              "<Figure size 640x480 with 1 Axes>"
            ]
          },
          "metadata": {},
          "output_type": "display_data"
        }
      ],
      "source": [
        "plt.title(\"Persentase Pesanan Tepat Waktu vs. Terlambat\")\n",
        "data_label = (\"Tepat waktu\", \"Terlambat\")\n",
        "votes = (tepat_waktu, terlambat)\n",
        "colors = ('#E67F0D', '#93C572')\n",
        "explode = (0, 0)\n",
        "\n",
        "plt.pie(\n",
        "    x=votes,\n",
        "    labels=data_label,\n",
        "    autopct='%1.1f%%',\n",
        "    colors=colors,\n",
        "    explode=explode\n",
        ")\n",
        "plt.show()"
      ]
    },
    {
      "cell_type": "markdown",
      "metadata": {
        "id": "ZWbAsm6Xzs9y"
      },
      "source": [
        "### Pertanyaan 3: Tipe pembayaran apa yang paling banyak dan paling sedikit dipakai? Sudah"
      ]
    },
    {
      "cell_type": "code",
      "execution_count": 140,
      "metadata": {
        "colab": {
          "base_uri": "https://localhost:8080/",
          "height": 675
        },
        "id": "TDfuM5fG4cfD",
        "outputId": "71427255-26d6-480d-dd18-ae55ca77ff0d"
      },
      "outputs": [
        {
          "data": {
            "image/png": "[encoded data removed]",
            "text/plain": [
              "<Figure size 800x800 with 1 Axes>"
            ]
          },
          "metadata": {},
          "output_type": "display_data"
        }
      ],
      "source": [
        "# Data\n",
        "data_label = payment_counts['payment type']\n",
        "votes = payment_counts['Jumlah']\n",
        "colors = ('#8B4513','#E67F0D', '#93C572', '#FFF8DC')\n",
        "explode = (0, 0,0,0)\n",
        "\n",
        "# Buat pie chart\n",
        "plt.figure(figsize=(8, 8))\n",
        "plt.pie(votes, labels=data_label, autopct='%1.1f%%', colors=colors)\n",
        "\n",
        "# Tambahkan judul\n",
        "plt.title(\"Persentase Pembayaran Berdasarkan Jenis Pembayaran\")\n",
        "\n",
        "# Tampilkan pie chart\n",
        "plt.show()"
      ]
    },
    {
      "cell_type": "markdown",
      "metadata": {
        "id": "FXygeXAToTwW"
      },
      "source": [
        "### Pertanyaan 4: Kota apa dengan sebaran pelanggan terbanyak?"
      ]
    },
    {
      "cell_type": "code",
      "execution_count": 141,
      "metadata": {
        "colab": {
          "base_uri": "https://localhost:8080/",
          "height": 362
        },
        "id": "BxChFidE_U1b",
        "outputId": "c2fae5ab-abdb-484e-d88d-15f01be8ee5b"
      },
      "outputs": [
        {
          "data": {
            "image/png": "[encoded data removed]",
            "text/plain": [
              "<Figure size 2400x600 with 1 Axes>"
            ]
          },
          "metadata": {},
          "output_type": "display_data"
        }
      ],
      "source": [
        "sorted_city_customers = sorted_city_customers.sort_values(by=\"customer_count\", ascending=False)\n",
        "\n",
        "# Ambil 5 kategori teratas\n",
        "top_5_customers_location = sorted_city_customers.head(5)\n",
        "\n",
        "# Buat plot\n",
        "fig, ax = plt.subplots(figsize=(24, 6))\n",
        "colors = [\"#72BCD4\", \"#D3D3D3\", \"#D3D3D3\", \"#D3D3D3\", \"#D3D3D3\"]\n",
        "sns.barplot(x=\"customer_city\", y=\"customer_count\", data=top_5_customers_location, palette=colors, ax=ax)\n",
        "ax.set_ylabel(None)\n",
        "ax.set_xlabel(None)\n",
        "ax.set_title(\"Best Performing Product\", loc=\"center\", fontsize=15)\n",
        "ax.tick_params(axis='y', labelsize=12)\n",
        "\n",
        "plt.suptitle(\"Which city has the highest customer distribution?\", fontsize=20)\n",
        "plt.show()\n"
      ]
    },
    {
      "cell_type": "markdown",
      "metadata": {
        "id": "yipXfxaRweHI"
      },
      "source": [
        "### Pertanyaan 5: Kategori apa yang paling diminati dan tidak diminati"
      ]
    },
    {
      "cell_type": "code",
      "execution_count": 142,
      "metadata": {
        "colab": {
          "base_uri": "https://localhost:8080/",
          "height": 316
        },
        "id": "QFUfa4DAqICt",
        "outputId": "91d30e4e-5915-4604-ec6c-e09fad4a621f"
      },
      "outputs": [
        {
          "data": {
            "image/png": "[encoded data removed]",
            "text/plain": [
              "<Figure size 2400x600 with 2 Axes>"
            ]
          },
          "metadata": {},
          "output_type": "display_data"
        }
      ],
      "source": [
        "import matplotlib.pyplot as plt\n",
        "import seaborn as sns\n",
        "\n",
        "grouped_order_data = grouped_order_dataset.sort_values(by=\"Jumlah\", ascending=False)\n",
        "\n",
        "# Ambil 5 kategori teratas\n",
        "top_5_order_categories = grouped_order_data.head(5)\n",
        "lowest_5_order_categories = grouped_order_data.tail(5)\n",
        "\n",
        "\n",
        "# Buat plot\n",
        "fig, axes = plt.subplots(1, 2, figsize=(24, 6))\n",
        "\n",
        "# Plot terbaik\n",
        "sns.barplot(x=\"Jumlah\", y=\"product_category_name_english\", data=top_5_order_categories, palette=colors, ax=axes[0])\n",
        "axes[0].set_ylabel(None)\n",
        "axes[0].set_xlabel(None)\n",
        "axes[0].set_title(\"Best Performing Product\", loc=\"center\", fontsize=15)\n",
        "axes[0].tick_params(axis='y', labelsize=12)\n",
        "\n",
        "# Plot terburuk\n",
        "sns.barplot(x=\"Jumlah\", y=\"product_category_name_english\", data=lowest_5_order_categories.sort_values(by=\"Jumlah\", ascending=True).head(5), palette=colors, ax=axes[1])\n",
        "axes[1].set_ylabel(None)\n",
        "axes[1].set_xlabel(None)\n",
        "axes[1].invert_xaxis()\n",
        "axes[1].yaxis.set_label_position(\"right\")\n",
        "axes[1].yaxis.tick_right()\n",
        "axes[1].set_title(\"Worst Performing Product\", loc=\"center\", fontsize=15)\n",
        "axes[1].tick_params(axis='y', labelsize=12)\n",
        "\n",
        "plt.suptitle(\"Best Performing Product by Selling Quantity\", fontsize=20)\n",
        "plt.show()\n"
      ]
    },
    {
      "cell_type": "markdown",
      "metadata": {
        "id": "C3oUqZFLzuz1"
      },
      "source": [
        "### Pertanyaan 6:Pengaruh rentang ukuran, berat, dan  dari barang yang dikirimkan terhadap biaya pengiriman (shipping/freight value)"
      ]
    },
    {
      "cell_type": "code",
      "execution_count": 143,
      "metadata": {
        "colab": {
          "base_uri": "https://localhost:8080/",
          "height": 551
        },
        "id": "l66J3sFdCXtd",
        "outputId": "7935f2f4-5030-4383-a161-13e3c65da097"
      },
      "outputs": [
        {
          "data": {
            "image/png": "[encoded data removed]",
            "text/plain": [
              "<Figure size 1000x600 with 1 Axes>"
            ]
          },
          "metadata": {},
          "output_type": "display_data"
        }
      ],
      "source": [
        "\n",
        "# Contoh data (gantilah ini dengan data sebenarnya)\n",
        "data = selected_columns[\"volumeBarang\"]\n",
        "\n",
        "# Hitung Q1 dan Q3\n",
        "q1 = np.percentile(data, 25)\n",
        "q3 = np.percentile(data, 75)\n",
        "\n",
        "# Filter data yang berada di antara Q1 dan Q3\n",
        "filtered_data = selected_columns[(data >= q1) & (data <= q3)].sample(n=500)  # Ubah jumlah sampel sesuai kebutuhan\n",
        "\n",
        "# Buat scatterplot dengan data yang telah difilter\n",
        "plt.figure(figsize=(10, 6))  # Sesuaikan ukuran gambar sesuai kebutuhan\n",
        "sns.scatterplot(data=filtered_data, x=\"freight_value\", y=\"volumeBarang\")\n",
        "plt.show()\n"
      ]
    },
    {
      "cell_type": "code",
      "execution_count": 146,
      "metadata": {
        "colab": {
          "base_uri": "https://localhost:8080/",
          "height": 551
        },
        "id": "DZ4WHCZZdGUV",
        "outputId": "9bf51f45-4213-4b6d-b1f2-58599a328ae0"
      },
      "outputs": [
        {
          "data": {
            "image/png": "[encoded data removed]",
            "text/plain": [
              "<Figure size 1000x600 with 1 Axes>"
            ]
          },
          "metadata": {},
          "output_type": "display_data"
        },
        {
          "data": {
            "text/plain": [
              "<Figure size 640x480 with 0 Axes>"
            ]
          },
          "metadata": {},
          "output_type": "display_data"
        }
      ],
      "source": [
        "# Contoh data (gantilah ini dengan data sebenarnya)\n",
        "data = merged_order_df[\"product_weight_g\"]  # Ganti nama kolom sesuai yang ada dalam DataFrame Anda\n",
        "\n",
        "# Hitung Q1 dan Q3\n",
        "q1 = np.percentile(data, 25)\n",
        "q3 = np.percentile(data, 75)\n",
        "\n",
        "# Filter data yang berada di antara Q1 dan Q3\n",
        "filtered_berat_data = merged_order_df[(data >= q1) & (data <= q3)].sample(n=500)  # Ubah jumlah sampel sesuai kebutuhan\n",
        "\n",
        "# Buat scatterplot dengan data yang telah difilter\n",
        "plt.figure(figsize=(10, 6))  # Sesuaikan ukuran gambar sesuai kebutuhan\n",
        "sns.scatterplot(data=filtered_berat_data, x=\"freight_value\", y=\"product_weight_g\")\n",
        "sns.regplot(data=filtered_berat_data,x=\"freight_value\",  y=\"product_weight_g\")\n",
        "plt.show()\n",
        "plt.savefig('visualisasi.png')\n"
      ]
    },
    {
      "cell_type": "markdown",
      "metadata": {
        "id": "J2CnXYGT9Tc2"
      },
      "source": [
        "## Conclusion"
      ]
    },
    {
      "cell_type": "markdown",
      "metadata": {
        "id": "f73FBkLw9V8C"
      },
      "source": [
        "- Conclution Pertanyaan 1:\n",
        "Dari persebaran rating dari penjualan produk berdasarkan kategorinya, maka bisa kita lihat bahwa health_beauty dan bed_bath_table merupakan yang paling banyak mendapat rating 5 paling banyak, yaitu sekitar lebih dari 600 orderan.\n",
        "\n",
        "- conclution pertanyaan 2:\n",
        "Terdapat 91% yang sesuai dengan jadwal sedangkan 9% lainnya terlambat, hal ini merupakan hal baik sebab lebih dari 90% pesanan sesuai dengan jadwal, namun hal ini bisa ditingkatkan pula.\n",
        "\n",
        "- conclution pertanyaan 3:\n",
        "Tipe pembayaran paling banyak dipakai adalah credit_card yaitu sebanyak 73,9% dan setelah itu ada boleto sebanyak 19%, kemudian 5.6% untuk voucher, lalu ada sebanyak 1.5% yang menggunakan kartu debit\n",
        "\n",
        "- conclution pertanyaan 4:\n",
        "Kota yang paling banyak memiliki persebaran data adalah saopaolo dengan sebanyak lebih dari 15000 orderan yang berada di saopolo, diikuti dengan rio de jeinaro sebanyak 6000 orderan, belo horizonte sekitaran lebih dari 2000 oderan.\n",
        "\n",
        "- conluction pertanyaan 5:\n",
        "Kateogri yang paling diminati adalah bed_bath_table sebanyak lebih dari 1100 orderan, kemudian diikuti dengan health_beauty.\n",
        "\n",
        "- conclution pertanyaan 6:\n",
        "Dari korelasi yang bisa saya lihat, volume barang tidak terlalu memberikan korelasi dari data yang ada. Lalu untuk berat, memberikan korelasi yang tidak terlalu kuat juga.\n"
      ]
    },
    {
      "cell_type": "code",
      "execution_count": null,
      "metadata": {},
      "outputs": [],
      "source": [
        "# Contoh data pelanggan dengan kolom 'customer_id', 'purchase_date', dan 'purchase_amount'\n",
        "data = {\n",
        "    'customer_id': customer_df['customer_id'],\n",
        "    'purchase_date': order_dataset['order_purchase_timestamp'],\n",
        "    'purchase_amount': [1]\n",
        "}\n",
        "\n",
        "df = pd.DataFrame(data)\n",
        "df['purchase_date'] = pd.to_datetime(df['purchase_date'])\n",
        "today = pd.to_datetime('2023-05-31')\n",
        "\n",
        "# Menghitung Recency, Frequency, dan Monetary\n",
        "recency = today - df.groupby('customer_id')['purchase_date'].max()\n",
        "frequency = df.groupby('customer_id').size()\n",
        "monetary = df.groupby('customer_id')['purchase_amount'].sum()\n",
        "\n",
        "rfm_df = pd.DataFrame({'Recency': recency, 'Frequency': frequency, 'Monetary': monetary})\n",
        "\n",
        "# Tampilkan dataframe RFM\n",
        "print(rfm_df)"
      ]
    }
  ],
  "metadata": {
    "colab": {
      "provenance": [],
      "toc_visible": true
    },
    "kernelspec": {
      "display_name": "Python 3",
      "name": "python3"
    },
    "language_info": {
      "codemirror_mode": {
        "name": "ipython",
        "version": 3
      },
      "file_extension": ".py",
      "mimetype": "text/x-python",
      "name": "python",
      "nbconvert_exporter": "python",
      "pygments_lexer": "ipython3",
      "version": "3.11.5"
    }
  },
  "nbformat": 4,
  "nbformat_minor": 0
}
